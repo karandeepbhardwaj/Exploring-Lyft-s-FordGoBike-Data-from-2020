{
 "cells": [
  {
   "cell_type": "markdown",
   "metadata": {},
   "source": [
    "# Introduction\n",
    "\n",
    "### Table of Contents\n",
    "\n",
    "**Introduction**\n",
    "\n",
    "* **Part I** - Gathering Data\n",
    "* **Part II** - Assessing Data\n",
    "* **Part III** - Cleaning Data\n",
    "* **Part IV** - Univariate Exploration\n",
    "* **Part V** - Bivariate Exploration\n",
    "* **Part VI** - Multivariate Exploration\n",
    "\n",
    "**Introduction**\n",
    "\n",
    "`Ford GoBike` is a regional public bicycle sharing system in the San Francisco Bay Area, California. Beginning operation in August 2013 as Bay Area Bike Share, the Ford GoBike system currently has over 2,600 bicycles in 262 stations across San Francisco, East Bay and San Jose. On June 28, 2017, the system officially launched as Ford GoBike in a partnership with Ford Motor Company. \n",
    "\n",
    "Ford GoBike, like other bike share systems, consists of a fleet of specially designed, sturdy and durable bikes that are locked into a network of docking stations throughout the city. The bikes can be unlocked from one station and returned to any other station in the system, making them ideal for one-way trips. The bikes are available for use 24 hours/day, 7 days/week, 365 days/year and riders have access to all bikes in the network when they become a member or purchase a pass.\n",
    "\n",
    "**Preliminary Wrangling**\n",
    "This document explores the Ford GoBike's trip data for public containing approximately 1,850,000 bike rides from FY2018."
   ]
  },
  {
   "cell_type": "markdown",
   "metadata": {},
   "source": [
    "# Gather"
   ]
  },
  {
   "cell_type": "markdown",
   "metadata": {},
   "source": [
    "#### Import Libraries"
   ]
  },
  {
   "cell_type": "code",
   "execution_count": 278,
   "metadata": {},
   "outputs": [],
   "source": [
    "# import all packages\n",
    "import numpy as np\n",
    "import pandas as pd\n",
    "import matplotlib.pyplot as plt\n",
    "import seaborn as sns\n",
    "import datetime\n",
    "\n",
    "import glob\n",
    "import os\n",
    "\n",
    "%matplotlib inline"
   ]
  },
  {
   "cell_type": "markdown",
   "metadata": {},
   "source": [
    "#### Gather data from folder"
   ]
  },
  {
   "cell_type": "code",
   "execution_count": 279,
   "metadata": {},
   "outputs": [],
   "source": [
    "path = r'/Users/karandeepbhardwaj/Documents/Exploring-Lyft-s-FordGoBike-Data-from-2020/Data'"
   ]
  },
  {
   "cell_type": "markdown",
   "metadata": {},
   "source": [
    "#### Find all files in the folder"
   ]
  },
  {
   "cell_type": "code",
   "execution_count": 280,
   "metadata": {},
   "outputs": [],
   "source": [
    "files = glob.glob(os.path.join(path, \"*.csv\"))"
   ]
  },
  {
   "cell_type": "markdown",
   "metadata": {},
   "source": [
    "#### Merge all the files"
   ]
  },
  {
   "cell_type": "code",
   "execution_count": 281,
   "metadata": {
    "scrolled": true
   },
   "outputs": [],
   "source": [
    "merged_df = pd.concat((pd.read_csv(f) for f in files), ignore_index = True)"
   ]
  },
  {
   "cell_type": "code",
   "execution_count": 282,
   "metadata": {},
   "outputs": [
    {
     "data": {
      "text/html": [
       "<div>\n",
       "<style scoped>\n",
       "    .dataframe tbody tr th:only-of-type {\n",
       "        vertical-align: middle;\n",
       "    }\n",
       "\n",
       "    .dataframe tbody tr th {\n",
       "        vertical-align: top;\n",
       "    }\n",
       "\n",
       "    .dataframe thead th {\n",
       "        text-align: right;\n",
       "    }\n",
       "</style>\n",
       "<table border=\"1\" class=\"dataframe\">\n",
       "  <thead>\n",
       "    <tr style=\"text-align: right;\">\n",
       "      <th></th>\n",
       "      <th>ride_id</th>\n",
       "      <th>rideable_type</th>\n",
       "      <th>started_at</th>\n",
       "      <th>ended_at</th>\n",
       "      <th>start_station_name</th>\n",
       "      <th>start_station_id</th>\n",
       "      <th>end_station_name</th>\n",
       "      <th>end_station_id</th>\n",
       "      <th>start_lat</th>\n",
       "      <th>start_lng</th>\n",
       "      <th>end_lat</th>\n",
       "      <th>end_lng</th>\n",
       "      <th>member_casual</th>\n",
       "      <th>is_equity</th>\n",
       "    </tr>\n",
       "  </thead>\n",
       "  <tbody>\n",
       "    <tr>\n",
       "      <th>0</th>\n",
       "      <td>08A4A9F7315901F3</td>\n",
       "      <td>electric_bike</td>\n",
       "      <td>2020-06-03 16:37:10</td>\n",
       "      <td>2020-06-03 16:48:28</td>\n",
       "      <td>NaN</td>\n",
       "      <td>NaN</td>\n",
       "      <td>NaN</td>\n",
       "      <td>NaN</td>\n",
       "      <td>37.770000</td>\n",
       "      <td>-122.40000</td>\n",
       "      <td>37.760000</td>\n",
       "      <td>-122.420000</td>\n",
       "      <td>casual</td>\n",
       "      <td>NaN</td>\n",
       "    </tr>\n",
       "    <tr>\n",
       "      <th>1</th>\n",
       "      <td>844F9D906468C441</td>\n",
       "      <td>electric_bike</td>\n",
       "      <td>2020-06-03 12:22:47</td>\n",
       "      <td>2020-06-03 12:44:02</td>\n",
       "      <td>NaN</td>\n",
       "      <td>NaN</td>\n",
       "      <td>NaN</td>\n",
       "      <td>NaN</td>\n",
       "      <td>37.780000</td>\n",
       "      <td>-122.49000</td>\n",
       "      <td>37.780000</td>\n",
       "      <td>-122.460000</td>\n",
       "      <td>casual</td>\n",
       "      <td>NaN</td>\n",
       "    </tr>\n",
       "    <tr>\n",
       "      <th>2</th>\n",
       "      <td>0E441BF8A86C544E</td>\n",
       "      <td>electric_bike</td>\n",
       "      <td>2020-06-02 17:37:43</td>\n",
       "      <td>2020-06-02 17:52:21</td>\n",
       "      <td>Powell St at Columbus Ave</td>\n",
       "      <td>487.0</td>\n",
       "      <td>NaN</td>\n",
       "      <td>NaN</td>\n",
       "      <td>37.800426</td>\n",
       "      <td>-122.41095</td>\n",
       "      <td>37.790000</td>\n",
       "      <td>-122.440000</td>\n",
       "      <td>casual</td>\n",
       "      <td>NaN</td>\n",
       "    </tr>\n",
       "    <tr>\n",
       "      <th>3</th>\n",
       "      <td>CAFE64864422F475</td>\n",
       "      <td>electric_bike</td>\n",
       "      <td>2020-06-02 18:13:01</td>\n",
       "      <td>2020-06-02 18:48:30</td>\n",
       "      <td>NaN</td>\n",
       "      <td>NaN</td>\n",
       "      <td>NaN</td>\n",
       "      <td>NaN</td>\n",
       "      <td>37.760000</td>\n",
       "      <td>-122.41000</td>\n",
       "      <td>37.770000</td>\n",
       "      <td>-122.430000</td>\n",
       "      <td>casual</td>\n",
       "      <td>NaN</td>\n",
       "    </tr>\n",
       "    <tr>\n",
       "      <th>4</th>\n",
       "      <td>172957A20160D568</td>\n",
       "      <td>electric_bike</td>\n",
       "      <td>2020-06-03 15:16:06</td>\n",
       "      <td>2020-06-03 16:06:10</td>\n",
       "      <td>Church St at Duboce Ave</td>\n",
       "      <td>85.0</td>\n",
       "      <td>48th Ave at Cabrillo St</td>\n",
       "      <td>521.0</td>\n",
       "      <td>37.769841</td>\n",
       "      <td>-122.42921</td>\n",
       "      <td>37.772894</td>\n",
       "      <td>-122.509079</td>\n",
       "      <td>casual</td>\n",
       "      <td>NaN</td>\n",
       "    </tr>\n",
       "  </tbody>\n",
       "</table>\n",
       "</div>"
      ],
      "text/plain": [
       "            ride_id  rideable_type           started_at             ended_at  \\\n",
       "0  08A4A9F7315901F3  electric_bike  2020-06-03 16:37:10  2020-06-03 16:48:28   \n",
       "1  844F9D906468C441  electric_bike  2020-06-03 12:22:47  2020-06-03 12:44:02   \n",
       "2  0E441BF8A86C544E  electric_bike  2020-06-02 17:37:43  2020-06-02 17:52:21   \n",
       "3  CAFE64864422F475  electric_bike  2020-06-02 18:13:01  2020-06-02 18:48:30   \n",
       "4  172957A20160D568  electric_bike  2020-06-03 15:16:06  2020-06-03 16:06:10   \n",
       "\n",
       "          start_station_name  start_station_id         end_station_name  \\\n",
       "0                        NaN               NaN                      NaN   \n",
       "1                        NaN               NaN                      NaN   \n",
       "2  Powell St at Columbus Ave             487.0                      NaN   \n",
       "3                        NaN               NaN                      NaN   \n",
       "4    Church St at Duboce Ave              85.0  48th Ave at Cabrillo St   \n",
       "\n",
       "   end_station_id  start_lat  start_lng    end_lat     end_lng member_casual  \\\n",
       "0             NaN  37.770000 -122.40000  37.760000 -122.420000        casual   \n",
       "1             NaN  37.780000 -122.49000  37.780000 -122.460000        casual   \n",
       "2             NaN  37.800426 -122.41095  37.790000 -122.440000        casual   \n",
       "3             NaN  37.760000 -122.41000  37.770000 -122.430000        casual   \n",
       "4           521.0  37.769841 -122.42921  37.772894 -122.509079        casual   \n",
       "\n",
       "  is_equity  \n",
       "0       NaN  \n",
       "1       NaN  \n",
       "2       NaN  \n",
       "3       NaN  \n",
       "4       NaN  "
      ]
     },
     "execution_count": 282,
     "metadata": {},
     "output_type": "execute_result"
    }
   ],
   "source": [
    "merged_df.head()"
   ]
  },
  {
   "cell_type": "code",
   "execution_count": 283,
   "metadata": {},
   "outputs": [],
   "source": [
    "merged_df.to_csv('master_file.csv', index=False)"
   ]
  },
  {
   "cell_type": "markdown",
   "metadata": {},
   "source": [
    "#### Test"
   ]
  },
  {
   "cell_type": "code",
   "execution_count": 284,
   "metadata": {},
   "outputs": [
    {
     "name": "stderr",
     "output_type": "stream",
     "text": [
      "/Users/karandeepbhardwaj/opt/anaconda3/envs/py3/lib/python3.7/site-packages/IPython/core/interactiveshell.py:3063: DtypeWarning: Columns (13) have mixed types.Specify dtype option on import or set low_memory=False.\n",
      "  interactivity=interactivity, compiler=compiler, result=result)\n"
     ]
    }
   ],
   "source": [
    "df = pd.read_csv('master_file.csv')"
   ]
  },
  {
   "cell_type": "code",
   "execution_count": 285,
   "metadata": {},
   "outputs": [
    {
     "data": {
      "text/plain": [
       "(380678, 14)"
      ]
     },
     "execution_count": 285,
     "metadata": {},
     "output_type": "execute_result"
    }
   ],
   "source": [
    "df.shape"
   ]
  },
  {
   "cell_type": "markdown",
   "metadata": {},
   "source": [
    "# Assess"
   ]
  },
  {
   "cell_type": "markdown",
   "metadata": {},
   "source": [
    "## Quality\n",
    "\n",
    "* start time and end time are objects not a timestamps\n",
    "* member_casual can be set to category\n",
    "* bike id, start_station_id, end_station_id can be set to object\n",
    "* isequity not required\n",
    "* start_station_id, end_station_id are in float format instead of integer format\n",
    "* extract date,day of the week,month,minute,hour from the start_time"
   ]
  },
  {
   "cell_type": "markdown",
   "metadata": {},
   "source": [
    "### What is the structure of your dataset?\n",
    "The dataset has 30000+ bike rides that happen in 2020 in the San Francisco Bay Area. The dataset contained features about:\n",
    "\n",
    "* start time/end time: start/end date/time for the bike rides.\n",
    "* stations: start/end station, name, geolocation (latitude/longitude)\n",
    "* anonymized customer data: member_casual\n",
    "* rented bikes: bike id\n",
    "\n",
    "The dataset was further enhanced with features that I may find neccessary to perform interesting analysis:\n",
    "\n",
    "* rental time: hour of the day, weekday\n",
    "\n",
    "### What is/are the main feature(s) of interest in your dataset?\n",
    "I am interested in investigate duration of biking time.\n",
    "\n",
    "### What features in the dataset do you think will help support your investigation into your feature(s) of interest?\n",
    "I think the following features may help to support my investigation into the feature (duration) I am interested.\n",
    "\n",
    "* start_time - I'll extract dayofweek, hours for further investigation.\n",
    "* member_casual"
   ]
  },
  {
   "cell_type": "code",
   "execution_count": 286,
   "metadata": {
    "scrolled": true
   },
   "outputs": [
    {
     "name": "stdout",
     "output_type": "stream",
     "text": [
      "<class 'pandas.core.frame.DataFrame'>\n",
      "RangeIndex: 380678 entries, 0 to 380677\n",
      "Data columns (total 14 columns):\n",
      " #   Column              Non-Null Count   Dtype  \n",
      "---  ------              --------------   -----  \n",
      " 0   ride_id             380678 non-null  object \n",
      " 1   rideable_type       380678 non-null  object \n",
      " 2   started_at          380678 non-null  object \n",
      " 3   ended_at            380678 non-null  object \n",
      " 4   start_station_name  239969 non-null  object \n",
      " 5   start_station_id    239969 non-null  float64\n",
      " 6   end_station_name    233788 non-null  object \n",
      " 7   end_station_id      233788 non-null  float64\n",
      " 8   start_lat           380678 non-null  float64\n",
      " 9   start_lng           380678 non-null  float64\n",
      " 10  end_lat             380036 non-null  float64\n",
      " 11  end_lng             380036 non-null  float64\n",
      " 12  member_casual       380678 non-null  object \n",
      " 13  is_equity           138251 non-null  object \n",
      "dtypes: float64(6), object(8)\n",
      "memory usage: 40.7+ MB\n"
     ]
    }
   ],
   "source": [
    "df.info()"
   ]
  },
  {
   "cell_type": "code",
   "execution_count": 287,
   "metadata": {},
   "outputs": [
    {
     "data": {
      "text/plain": [
       "casual    226098\n",
       "member    154580\n",
       "Name: member_casual, dtype: int64"
      ]
     },
     "execution_count": 287,
     "metadata": {},
     "output_type": "execute_result"
    }
   ],
   "source": [
    "df.member_casual.value_counts()"
   ]
  },
  {
   "cell_type": "code",
   "execution_count": 288,
   "metadata": {
    "scrolled": true
   },
   "outputs": [
    {
     "data": {
      "text/plain": [
       "False    129548\n",
       "True       8703\n",
       "Name: is_equity, dtype: int64"
      ]
     },
     "execution_count": 288,
     "metadata": {},
     "output_type": "execute_result"
    }
   ],
   "source": [
    "df.is_equity.value_counts()"
   ]
  },
  {
   "cell_type": "code",
   "execution_count": 289,
   "metadata": {},
   "outputs": [
    {
     "data": {
      "text/plain": [
       "0"
      ]
     },
     "execution_count": 289,
     "metadata": {},
     "output_type": "execute_result"
    }
   ],
   "source": [
    "df.duplicated().sum()"
   ]
  },
  {
   "cell_type": "code",
   "execution_count": 290,
   "metadata": {},
   "outputs": [
    {
     "data": {
      "text/plain": [
       "ride_id                    0\n",
       "rideable_type              0\n",
       "started_at                 0\n",
       "ended_at                   0\n",
       "start_station_name    140709\n",
       "start_station_id      140709\n",
       "end_station_name      146890\n",
       "end_station_id        146890\n",
       "start_lat                  0\n",
       "start_lng                  0\n",
       "end_lat                  642\n",
       "end_lng                  642\n",
       "member_casual              0\n",
       "is_equity             242427\n",
       "dtype: int64"
      ]
     },
     "execution_count": 290,
     "metadata": {},
     "output_type": "execute_result"
    }
   ],
   "source": [
    "df.isnull().sum()"
   ]
  },
  {
   "cell_type": "code",
   "execution_count": 291,
   "metadata": {},
   "outputs": [
    {
     "data": {
      "text/html": [
       "<div>\n",
       "<style scoped>\n",
       "    .dataframe tbody tr th:only-of-type {\n",
       "        vertical-align: middle;\n",
       "    }\n",
       "\n",
       "    .dataframe tbody tr th {\n",
       "        vertical-align: top;\n",
       "    }\n",
       "\n",
       "    .dataframe thead th {\n",
       "        text-align: right;\n",
       "    }\n",
       "</style>\n",
       "<table border=\"1\" class=\"dataframe\">\n",
       "  <thead>\n",
       "    <tr style=\"text-align: right;\">\n",
       "      <th></th>\n",
       "      <th>start_station_id</th>\n",
       "      <th>end_station_id</th>\n",
       "      <th>start_lat</th>\n",
       "      <th>start_lng</th>\n",
       "      <th>end_lat</th>\n",
       "      <th>end_lng</th>\n",
       "    </tr>\n",
       "  </thead>\n",
       "  <tbody>\n",
       "    <tr>\n",
       "      <th>count</th>\n",
       "      <td>239969.000000</td>\n",
       "      <td>233788.000000</td>\n",
       "      <td>380678.000000</td>\n",
       "      <td>380678.000000</td>\n",
       "      <td>380036.000000</td>\n",
       "      <td>380036.000000</td>\n",
       "    </tr>\n",
       "    <tr>\n",
       "      <th>mean</th>\n",
       "      <td>225.235935</td>\n",
       "      <td>222.892082</td>\n",
       "      <td>37.722349</td>\n",
       "      <td>-122.342257</td>\n",
       "      <td>37.722295</td>\n",
       "      <td>-122.342487</td>\n",
       "    </tr>\n",
       "    <tr>\n",
       "      <th>std</th>\n",
       "      <td>169.505052</td>\n",
       "      <td>169.208394</td>\n",
       "      <td>0.151551</td>\n",
       "      <td>0.182445</td>\n",
       "      <td>0.151621</td>\n",
       "      <td>0.182584</td>\n",
       "    </tr>\n",
       "    <tr>\n",
       "      <th>min</th>\n",
       "      <td>3.000000</td>\n",
       "      <td>3.000000</td>\n",
       "      <td>37.239200</td>\n",
       "      <td>-122.514300</td>\n",
       "      <td>37.004600</td>\n",
       "      <td>-122.559000</td>\n",
       "    </tr>\n",
       "    <tr>\n",
       "      <th>25%</th>\n",
       "      <td>73.000000</td>\n",
       "      <td>74.000000</td>\n",
       "      <td>37.760000</td>\n",
       "      <td>-122.432100</td>\n",
       "      <td>37.760000</td>\n",
       "      <td>-122.431946</td>\n",
       "    </tr>\n",
       "    <tr>\n",
       "      <th>50%</th>\n",
       "      <td>172.000000</td>\n",
       "      <td>162.000000</td>\n",
       "      <td>37.773506</td>\n",
       "      <td>-122.411800</td>\n",
       "      <td>37.773500</td>\n",
       "      <td>-122.411800</td>\n",
       "    </tr>\n",
       "    <tr>\n",
       "      <th>75%</th>\n",
       "      <td>381.000000</td>\n",
       "      <td>381.000000</td>\n",
       "      <td>37.787500</td>\n",
       "      <td>-122.390200</td>\n",
       "      <td>37.787710</td>\n",
       "      <td>-122.390288</td>\n",
       "    </tr>\n",
       "    <tr>\n",
       "      <th>max</th>\n",
       "      <td>532.000000</td>\n",
       "      <td>532.000000</td>\n",
       "      <td>37.880222</td>\n",
       "      <td>-121.770000</td>\n",
       "      <td>37.962100</td>\n",
       "      <td>-121.560600</td>\n",
       "    </tr>\n",
       "  </tbody>\n",
       "</table>\n",
       "</div>"
      ],
      "text/plain": [
       "       start_station_id  end_station_id      start_lat      start_lng  \\\n",
       "count     239969.000000   233788.000000  380678.000000  380678.000000   \n",
       "mean         225.235935      222.892082      37.722349    -122.342257   \n",
       "std          169.505052      169.208394       0.151551       0.182445   \n",
       "min            3.000000        3.000000      37.239200    -122.514300   \n",
       "25%           73.000000       74.000000      37.760000    -122.432100   \n",
       "50%          172.000000      162.000000      37.773506    -122.411800   \n",
       "75%          381.000000      381.000000      37.787500    -122.390200   \n",
       "max          532.000000      532.000000      37.880222    -121.770000   \n",
       "\n",
       "             end_lat        end_lng  \n",
       "count  380036.000000  380036.000000  \n",
       "mean       37.722295    -122.342487  \n",
       "std         0.151621       0.182584  \n",
       "min        37.004600    -122.559000  \n",
       "25%        37.760000    -122.431946  \n",
       "50%        37.773500    -122.411800  \n",
       "75%        37.787710    -122.390288  \n",
       "max        37.962100    -121.560600  "
      ]
     },
     "execution_count": 291,
     "metadata": {},
     "output_type": "execute_result"
    }
   ],
   "source": [
    "df.describe()"
   ]
  },
  {
   "cell_type": "markdown",
   "metadata": {},
   "source": [
    "# Clean"
   ]
  },
  {
   "cell_type": "markdown",
   "metadata": {},
   "source": [
    "### Making a copy"
   ]
  },
  {
   "cell_type": "code",
   "execution_count": 292,
   "metadata": {},
   "outputs": [],
   "source": [
    "df_clean = df.copy()"
   ]
  },
  {
   "cell_type": "markdown",
   "metadata": {},
   "source": [
    "**Define**\n",
    "\n",
    "Convert datatype for start time and endtime"
   ]
  },
  {
   "cell_type": "markdown",
   "metadata": {},
   "source": [
    "**Code**"
   ]
  },
  {
   "cell_type": "code",
   "execution_count": 293,
   "metadata": {},
   "outputs": [],
   "source": [
    "# convert datatype of start_time and end_time from object to datatime\n",
    "df_clean['started_at'] =pd.to_datetime(df_clean['started_at'])\n",
    "df_clean['ended_at'] = pd.to_datetime(df_clean['ended_at'])"
   ]
  },
  {
   "cell_type": "markdown",
   "metadata": {},
   "source": [
    "**Test**"
   ]
  },
  {
   "cell_type": "code",
   "execution_count": 294,
   "metadata": {},
   "outputs": [
    {
     "name": "stdout",
     "output_type": "stream",
     "text": [
      "<class 'pandas.core.frame.DataFrame'>\n",
      "RangeIndex: 380678 entries, 0 to 380677\n",
      "Data columns (total 14 columns):\n",
      " #   Column              Non-Null Count   Dtype         \n",
      "---  ------              --------------   -----         \n",
      " 0   ride_id             380678 non-null  object        \n",
      " 1   rideable_type       380678 non-null  object        \n",
      " 2   started_at          380678 non-null  datetime64[ns]\n",
      " 3   ended_at            380678 non-null  datetime64[ns]\n",
      " 4   start_station_name  239969 non-null  object        \n",
      " 5   start_station_id    239969 non-null  float64       \n",
      " 6   end_station_name    233788 non-null  object        \n",
      " 7   end_station_id      233788 non-null  float64       \n",
      " 8   start_lat           380678 non-null  float64       \n",
      " 9   start_lng           380678 non-null  float64       \n",
      " 10  end_lat             380036 non-null  float64       \n",
      " 11  end_lng             380036 non-null  float64       \n",
      " 12  member_casual       380678 non-null  object        \n",
      " 13  is_equity           138251 non-null  object        \n",
      "dtypes: datetime64[ns](2), float64(6), object(6)\n",
      "memory usage: 40.7+ MB\n"
     ]
    }
   ],
   "source": [
    "df_clean.info()"
   ]
  },
  {
   "cell_type": "markdown",
   "metadata": {},
   "source": [
    "**Define**\n",
    "\n",
    "Drop is_equity"
   ]
  },
  {
   "cell_type": "markdown",
   "metadata": {},
   "source": [
    "**Code**"
   ]
  },
  {
   "cell_type": "code",
   "execution_count": 295,
   "metadata": {},
   "outputs": [],
   "source": [
    "df_clean = df_clean.drop('is_equity', 1)"
   ]
  },
  {
   "cell_type": "markdown",
   "metadata": {},
   "source": [
    "**Test**"
   ]
  },
  {
   "cell_type": "code",
   "execution_count": 296,
   "metadata": {},
   "outputs": [
    {
     "name": "stdout",
     "output_type": "stream",
     "text": [
      "<class 'pandas.core.frame.DataFrame'>\n",
      "RangeIndex: 380678 entries, 0 to 380677\n",
      "Data columns (total 13 columns):\n",
      " #   Column              Non-Null Count   Dtype         \n",
      "---  ------              --------------   -----         \n",
      " 0   ride_id             380678 non-null  object        \n",
      " 1   rideable_type       380678 non-null  object        \n",
      " 2   started_at          380678 non-null  datetime64[ns]\n",
      " 3   ended_at            380678 non-null  datetime64[ns]\n",
      " 4   start_station_name  239969 non-null  object        \n",
      " 5   start_station_id    239969 non-null  float64       \n",
      " 6   end_station_name    233788 non-null  object        \n",
      " 7   end_station_id      233788 non-null  float64       \n",
      " 8   start_lat           380678 non-null  float64       \n",
      " 9   start_lng           380678 non-null  float64       \n",
      " 10  end_lat             380036 non-null  float64       \n",
      " 11  end_lng             380036 non-null  float64       \n",
      " 12  member_casual       380678 non-null  object        \n",
      "dtypes: datetime64[ns](2), float64(6), object(5)\n",
      "memory usage: 37.8+ MB\n"
     ]
    }
   ],
   "source": [
    "df_clean.info()"
   ]
  },
  {
   "cell_type": "markdown",
   "metadata": {},
   "source": [
    "**Define**\n",
    "\n",
    "Change data type and column name of member_casual"
   ]
  },
  {
   "cell_type": "markdown",
   "metadata": {},
   "source": [
    "**Code**"
   ]
  },
  {
   "cell_type": "code",
   "execution_count": 297,
   "metadata": {},
   "outputs": [],
   "source": [
    "# create a column user_type and store member_casual as category\n",
    "df_clean['user_type'] = df_clean['member_casual'].astype('category')"
   ]
  },
  {
   "cell_type": "code",
   "execution_count": 298,
   "metadata": {},
   "outputs": [],
   "source": [
    "df_clean = df_clean.drop('member_casual', 1)"
   ]
  },
  {
   "cell_type": "markdown",
   "metadata": {},
   "source": [
    "**Test**"
   ]
  },
  {
   "cell_type": "code",
   "execution_count": 299,
   "metadata": {},
   "outputs": [
    {
     "name": "stdout",
     "output_type": "stream",
     "text": [
      "<class 'pandas.core.frame.DataFrame'>\n",
      "RangeIndex: 380678 entries, 0 to 380677\n",
      "Data columns (total 13 columns):\n",
      " #   Column              Non-Null Count   Dtype         \n",
      "---  ------              --------------   -----         \n",
      " 0   ride_id             380678 non-null  object        \n",
      " 1   rideable_type       380678 non-null  object        \n",
      " 2   started_at          380678 non-null  datetime64[ns]\n",
      " 3   ended_at            380678 non-null  datetime64[ns]\n",
      " 4   start_station_name  239969 non-null  object        \n",
      " 5   start_station_id    239969 non-null  float64       \n",
      " 6   end_station_name    233788 non-null  object        \n",
      " 7   end_station_id      233788 non-null  float64       \n",
      " 8   start_lat           380678 non-null  float64       \n",
      " 9   start_lng           380678 non-null  float64       \n",
      " 10  end_lat             380036 non-null  float64       \n",
      " 11  end_lng             380036 non-null  float64       \n",
      " 12  user_type           380678 non-null  category      \n",
      "dtypes: category(1), datetime64[ns](2), float64(6), object(4)\n",
      "memory usage: 35.2+ MB\n"
     ]
    }
   ],
   "source": [
    "df_clean.info()"
   ]
  },
  {
   "cell_type": "code",
   "execution_count": 300,
   "metadata": {},
   "outputs": [
    {
     "data": {
      "text/plain": [
       "casual    226098\n",
       "member    154580\n",
       "Name: user_type, dtype: int64"
      ]
     },
     "execution_count": 300,
     "metadata": {},
     "output_type": "execute_result"
    }
   ],
   "source": [
    "df_clean.user_type.value_counts()"
   ]
  },
  {
   "cell_type": "markdown",
   "metadata": {},
   "source": [
    "**Define**\n",
    "\n",
    "change rideable type to catagory"
   ]
  },
  {
   "cell_type": "markdown",
   "metadata": {},
   "source": [
    "**Code**"
   ]
  },
  {
   "cell_type": "code",
   "execution_count": 301,
   "metadata": {},
   "outputs": [],
   "source": [
    "df_clean['bike_type'] = df_clean['rideable_type'].astype('category')"
   ]
  },
  {
   "cell_type": "code",
   "execution_count": 302,
   "metadata": {},
   "outputs": [],
   "source": [
    "df_clean = df_clean.drop('rideable_type', 1)"
   ]
  },
  {
   "cell_type": "markdown",
   "metadata": {},
   "source": [
    "**Test**"
   ]
  },
  {
   "cell_type": "code",
   "execution_count": 303,
   "metadata": {},
   "outputs": [
    {
     "name": "stdout",
     "output_type": "stream",
     "text": [
      "<class 'pandas.core.frame.DataFrame'>\n",
      "RangeIndex: 380678 entries, 0 to 380677\n",
      "Data columns (total 13 columns):\n",
      " #   Column              Non-Null Count   Dtype         \n",
      "---  ------              --------------   -----         \n",
      " 0   ride_id             380678 non-null  object        \n",
      " 1   started_at          380678 non-null  datetime64[ns]\n",
      " 2   ended_at            380678 non-null  datetime64[ns]\n",
      " 3   start_station_name  239969 non-null  object        \n",
      " 4   start_station_id    239969 non-null  float64       \n",
      " 5   end_station_name    233788 non-null  object        \n",
      " 6   end_station_id      233788 non-null  float64       \n",
      " 7   start_lat           380678 non-null  float64       \n",
      " 8   start_lng           380678 non-null  float64       \n",
      " 9   end_lat             380036 non-null  float64       \n",
      " 10  end_lng             380036 non-null  float64       \n",
      " 11  user_type           380678 non-null  category      \n",
      " 12  bike_type           380678 non-null  category      \n",
      "dtypes: category(2), datetime64[ns](2), float64(6), object(3)\n",
      "memory usage: 32.7+ MB\n"
     ]
    }
   ],
   "source": [
    "df_clean.info()"
   ]
  },
  {
   "cell_type": "markdown",
   "metadata": {},
   "source": [
    "**Define**\n",
    "\n",
    "extract date,day of the week,month,minute,hour from the start_time"
   ]
  },
  {
   "cell_type": "markdown",
   "metadata": {},
   "source": [
    "**Code**"
   ]
  },
  {
   "cell_type": "code",
   "execution_count": 304,
   "metadata": {},
   "outputs": [],
   "source": [
    "df_clean['date'] = df_clean.started_at.dt.strftime('%Y-%m-%d')\n",
    "df_clean['hour_of_day'] = df_clean.started_at.dt.strftime('%H')\n",
    "df_clean['day_of_week'] = df_clean.started_at.dt.strftime('%A')\n",
    "df_clean['month'] = df_clean.started_at.dt.strftime('%B')"
   ]
  },
  {
   "cell_type": "markdown",
   "metadata": {},
   "source": [
    "**Test**"
   ]
  },
  {
   "cell_type": "code",
   "execution_count": 305,
   "metadata": {},
   "outputs": [
    {
     "data": {
      "text/html": [
       "<div>\n",
       "<style scoped>\n",
       "    .dataframe tbody tr th:only-of-type {\n",
       "        vertical-align: middle;\n",
       "    }\n",
       "\n",
       "    .dataframe tbody tr th {\n",
       "        vertical-align: top;\n",
       "    }\n",
       "\n",
       "    .dataframe thead th {\n",
       "        text-align: right;\n",
       "    }\n",
       "</style>\n",
       "<table border=\"1\" class=\"dataframe\">\n",
       "  <thead>\n",
       "    <tr style=\"text-align: right;\">\n",
       "      <th></th>\n",
       "      <th>ride_id</th>\n",
       "      <th>started_at</th>\n",
       "      <th>ended_at</th>\n",
       "      <th>start_station_name</th>\n",
       "      <th>start_station_id</th>\n",
       "      <th>end_station_name</th>\n",
       "      <th>end_station_id</th>\n",
       "      <th>start_lat</th>\n",
       "      <th>start_lng</th>\n",
       "      <th>end_lat</th>\n",
       "      <th>end_lng</th>\n",
       "      <th>user_type</th>\n",
       "      <th>bike_type</th>\n",
       "      <th>date</th>\n",
       "      <th>hour_of_day</th>\n",
       "      <th>day_of_week</th>\n",
       "      <th>month</th>\n",
       "    </tr>\n",
       "  </thead>\n",
       "  <tbody>\n",
       "    <tr>\n",
       "      <th>220230</th>\n",
       "      <td>88A3E2ECCA8E7683</td>\n",
       "      <td>2020-05-16 14:00:06</td>\n",
       "      <td>2020-05-16 14:05:26</td>\n",
       "      <td>NaN</td>\n",
       "      <td>NaN</td>\n",
       "      <td>Market St at 10th St</td>\n",
       "      <td>58.0</td>\n",
       "      <td>37.788200</td>\n",
       "      <td>-122.420500</td>\n",
       "      <td>37.776900</td>\n",
       "      <td>-122.417300</td>\n",
       "      <td>member</td>\n",
       "      <td>electric_bike</td>\n",
       "      <td>2020-05-16</td>\n",
       "      <td>14</td>\n",
       "      <td>Saturday</td>\n",
       "      <td>May</td>\n",
       "    </tr>\n",
       "    <tr>\n",
       "      <th>283446</th>\n",
       "      <td>F60C3B3060CAA538</td>\n",
       "      <td>2020-05-28 17:31:01</td>\n",
       "      <td>2020-05-28 18:28:53</td>\n",
       "      <td>Bay St at Fillmore St</td>\n",
       "      <td>399.0</td>\n",
       "      <td>Buchanan St at North Point St</td>\n",
       "      <td>400.0</td>\n",
       "      <td>37.802700</td>\n",
       "      <td>-122.435900</td>\n",
       "      <td>37.804400</td>\n",
       "      <td>-122.433500</td>\n",
       "      <td>casual</td>\n",
       "      <td>electric_bike</td>\n",
       "      <td>2020-05-28</td>\n",
       "      <td>17</td>\n",
       "      <td>Thursday</td>\n",
       "      <td>May</td>\n",
       "    </tr>\n",
       "    <tr>\n",
       "      <th>83622</th>\n",
       "      <td>49FC30974BDA20CB</td>\n",
       "      <td>2020-06-19 13:57:26</td>\n",
       "      <td>2020-06-19 14:04:57</td>\n",
       "      <td>Parker St at Fulton St</td>\n",
       "      <td>266.0</td>\n",
       "      <td>Telegraph Ave at Ashby Ave</td>\n",
       "      <td>248.0</td>\n",
       "      <td>37.862464</td>\n",
       "      <td>-122.264791</td>\n",
       "      <td>37.855956</td>\n",
       "      <td>-122.259795</td>\n",
       "      <td>member</td>\n",
       "      <td>docked_bike</td>\n",
       "      <td>2020-06-19</td>\n",
       "      <td>13</td>\n",
       "      <td>Friday</td>\n",
       "      <td>June</td>\n",
       "    </tr>\n",
       "  </tbody>\n",
       "</table>\n",
       "</div>"
      ],
      "text/plain": [
       "                 ride_id          started_at            ended_at  \\\n",
       "220230  88A3E2ECCA8E7683 2020-05-16 14:00:06 2020-05-16 14:05:26   \n",
       "283446  F60C3B3060CAA538 2020-05-28 17:31:01 2020-05-28 18:28:53   \n",
       "83622   49FC30974BDA20CB 2020-06-19 13:57:26 2020-06-19 14:04:57   \n",
       "\n",
       "            start_station_name  start_station_id  \\\n",
       "220230                     NaN               NaN   \n",
       "283446   Bay St at Fillmore St             399.0   \n",
       "83622   Parker St at Fulton St             266.0   \n",
       "\n",
       "                     end_station_name  end_station_id  start_lat   start_lng  \\\n",
       "220230           Market St at 10th St            58.0  37.788200 -122.420500   \n",
       "283446  Buchanan St at North Point St           400.0  37.802700 -122.435900   \n",
       "83622      Telegraph Ave at Ashby Ave           248.0  37.862464 -122.264791   \n",
       "\n",
       "          end_lat     end_lng user_type      bike_type        date  \\\n",
       "220230  37.776900 -122.417300    member  electric_bike  2020-05-16   \n",
       "283446  37.804400 -122.433500    casual  electric_bike  2020-05-28   \n",
       "83622   37.855956 -122.259795    member    docked_bike  2020-06-19   \n",
       "\n",
       "       hour_of_day day_of_week month  \n",
       "220230          14    Saturday   May  \n",
       "283446          17    Thursday   May  \n",
       "83622           13      Friday  June  "
      ]
     },
     "execution_count": 305,
     "metadata": {},
     "output_type": "execute_result"
    }
   ],
   "source": [
    "df_clean.sample(3)"
   ]
  },
  {
   "cell_type": "markdown",
   "metadata": {},
   "source": [
    "**Define**\n",
    "\n",
    "Extract duration of trip from start time and end time"
   ]
  },
  {
   "cell_type": "markdown",
   "metadata": {},
   "source": [
    "**Code**"
   ]
  },
  {
   "cell_type": "code",
   "execution_count": 306,
   "metadata": {
    "scrolled": true
   },
   "outputs": [
    {
     "data": {
      "text/plain": [
       "0        00:11:18\n",
       "1        00:21:15\n",
       "2        00:14:38\n",
       "3        00:35:29\n",
       "4        00:50:04\n",
       "           ...   \n",
       "380673   00:12:49\n",
       "380674   00:04:28\n",
       "380675   00:20:15\n",
       "380676   00:25:13\n",
       "380677   00:10:43\n",
       "Name: duration, Length: 380678, dtype: timedelta64[ns]"
      ]
     },
     "execution_count": 306,
     "metadata": {},
     "output_type": "execute_result"
    }
   ],
   "source": [
    "df_clean['duration'] = df_clean['ended_at'] - df_clean['started_at']\n",
    "df_clean['duration']"
   ]
  },
  {
   "cell_type": "markdown",
   "metadata": {},
   "source": [
    "**Test**"
   ]
  },
  {
   "cell_type": "code",
   "execution_count": 307,
   "metadata": {
    "scrolled": true
   },
   "outputs": [
    {
     "data": {
      "text/plain": [
       "380678"
      ]
     },
     "execution_count": 307,
     "metadata": {},
     "output_type": "execute_result"
    }
   ],
   "source": [
    "df_clean['duration'].shape[0]"
   ]
  },
  {
   "cell_type": "code",
   "execution_count": 308,
   "metadata": {},
   "outputs": [],
   "source": [
    "df_clean = df_clean[df_clean['duration'].notna()]"
   ]
  },
  {
   "cell_type": "code",
   "execution_count": 309,
   "metadata": {},
   "outputs": [],
   "source": [
    "df_clean['duration']= df_clean['duration']/np.timedelta64(1,'m')"
   ]
  },
  {
   "cell_type": "code",
   "execution_count": 310,
   "metadata": {},
   "outputs": [
    {
     "data": {
      "text/html": [
       "<div>\n",
       "<style scoped>\n",
       "    .dataframe tbody tr th:only-of-type {\n",
       "        vertical-align: middle;\n",
       "    }\n",
       "\n",
       "    .dataframe tbody tr th {\n",
       "        vertical-align: top;\n",
       "    }\n",
       "\n",
       "    .dataframe thead th {\n",
       "        text-align: right;\n",
       "    }\n",
       "</style>\n",
       "<table border=\"1\" class=\"dataframe\">\n",
       "  <thead>\n",
       "    <tr style=\"text-align: right;\">\n",
       "      <th></th>\n",
       "      <th>ride_id</th>\n",
       "      <th>started_at</th>\n",
       "      <th>ended_at</th>\n",
       "      <th>start_station_name</th>\n",
       "      <th>start_station_id</th>\n",
       "      <th>end_station_name</th>\n",
       "      <th>end_station_id</th>\n",
       "      <th>start_lat</th>\n",
       "      <th>start_lng</th>\n",
       "      <th>end_lat</th>\n",
       "      <th>end_lng</th>\n",
       "      <th>user_type</th>\n",
       "      <th>bike_type</th>\n",
       "      <th>date</th>\n",
       "      <th>hour_of_day</th>\n",
       "      <th>day_of_week</th>\n",
       "      <th>month</th>\n",
       "      <th>duration</th>\n",
       "    </tr>\n",
       "  </thead>\n",
       "  <tbody>\n",
       "    <tr>\n",
       "      <th>0</th>\n",
       "      <td>08A4A9F7315901F3</td>\n",
       "      <td>2020-06-03 16:37:10</td>\n",
       "      <td>2020-06-03 16:48:28</td>\n",
       "      <td>NaN</td>\n",
       "      <td>NaN</td>\n",
       "      <td>NaN</td>\n",
       "      <td>NaN</td>\n",
       "      <td>37.770000</td>\n",
       "      <td>-122.40000</td>\n",
       "      <td>37.760000</td>\n",
       "      <td>-122.420000</td>\n",
       "      <td>casual</td>\n",
       "      <td>electric_bike</td>\n",
       "      <td>2020-06-03</td>\n",
       "      <td>16</td>\n",
       "      <td>Wednesday</td>\n",
       "      <td>June</td>\n",
       "      <td>11.300000</td>\n",
       "    </tr>\n",
       "    <tr>\n",
       "      <th>1</th>\n",
       "      <td>844F9D906468C441</td>\n",
       "      <td>2020-06-03 12:22:47</td>\n",
       "      <td>2020-06-03 12:44:02</td>\n",
       "      <td>NaN</td>\n",
       "      <td>NaN</td>\n",
       "      <td>NaN</td>\n",
       "      <td>NaN</td>\n",
       "      <td>37.780000</td>\n",
       "      <td>-122.49000</td>\n",
       "      <td>37.780000</td>\n",
       "      <td>-122.460000</td>\n",
       "      <td>casual</td>\n",
       "      <td>electric_bike</td>\n",
       "      <td>2020-06-03</td>\n",
       "      <td>12</td>\n",
       "      <td>Wednesday</td>\n",
       "      <td>June</td>\n",
       "      <td>21.250000</td>\n",
       "    </tr>\n",
       "    <tr>\n",
       "      <th>2</th>\n",
       "      <td>0E441BF8A86C544E</td>\n",
       "      <td>2020-06-02 17:37:43</td>\n",
       "      <td>2020-06-02 17:52:21</td>\n",
       "      <td>Powell St at Columbus Ave</td>\n",
       "      <td>487.0</td>\n",
       "      <td>NaN</td>\n",
       "      <td>NaN</td>\n",
       "      <td>37.800426</td>\n",
       "      <td>-122.41095</td>\n",
       "      <td>37.790000</td>\n",
       "      <td>-122.440000</td>\n",
       "      <td>casual</td>\n",
       "      <td>electric_bike</td>\n",
       "      <td>2020-06-02</td>\n",
       "      <td>17</td>\n",
       "      <td>Tuesday</td>\n",
       "      <td>June</td>\n",
       "      <td>14.633333</td>\n",
       "    </tr>\n",
       "    <tr>\n",
       "      <th>3</th>\n",
       "      <td>CAFE64864422F475</td>\n",
       "      <td>2020-06-02 18:13:01</td>\n",
       "      <td>2020-06-02 18:48:30</td>\n",
       "      <td>NaN</td>\n",
       "      <td>NaN</td>\n",
       "      <td>NaN</td>\n",
       "      <td>NaN</td>\n",
       "      <td>37.760000</td>\n",
       "      <td>-122.41000</td>\n",
       "      <td>37.770000</td>\n",
       "      <td>-122.430000</td>\n",
       "      <td>casual</td>\n",
       "      <td>electric_bike</td>\n",
       "      <td>2020-06-02</td>\n",
       "      <td>18</td>\n",
       "      <td>Tuesday</td>\n",
       "      <td>June</td>\n",
       "      <td>35.483333</td>\n",
       "    </tr>\n",
       "    <tr>\n",
       "      <th>4</th>\n",
       "      <td>172957A20160D568</td>\n",
       "      <td>2020-06-03 15:16:06</td>\n",
       "      <td>2020-06-03 16:06:10</td>\n",
       "      <td>Church St at Duboce Ave</td>\n",
       "      <td>85.0</td>\n",
       "      <td>48th Ave at Cabrillo St</td>\n",
       "      <td>521.0</td>\n",
       "      <td>37.769841</td>\n",
       "      <td>-122.42921</td>\n",
       "      <td>37.772894</td>\n",
       "      <td>-122.509079</td>\n",
       "      <td>casual</td>\n",
       "      <td>electric_bike</td>\n",
       "      <td>2020-06-03</td>\n",
       "      <td>15</td>\n",
       "      <td>Wednesday</td>\n",
       "      <td>June</td>\n",
       "      <td>50.066667</td>\n",
       "    </tr>\n",
       "  </tbody>\n",
       "</table>\n",
       "</div>"
      ],
      "text/plain": [
       "            ride_id          started_at            ended_at  \\\n",
       "0  08A4A9F7315901F3 2020-06-03 16:37:10 2020-06-03 16:48:28   \n",
       "1  844F9D906468C441 2020-06-03 12:22:47 2020-06-03 12:44:02   \n",
       "2  0E441BF8A86C544E 2020-06-02 17:37:43 2020-06-02 17:52:21   \n",
       "3  CAFE64864422F475 2020-06-02 18:13:01 2020-06-02 18:48:30   \n",
       "4  172957A20160D568 2020-06-03 15:16:06 2020-06-03 16:06:10   \n",
       "\n",
       "          start_station_name  start_station_id         end_station_name  \\\n",
       "0                        NaN               NaN                      NaN   \n",
       "1                        NaN               NaN                      NaN   \n",
       "2  Powell St at Columbus Ave             487.0                      NaN   \n",
       "3                        NaN               NaN                      NaN   \n",
       "4    Church St at Duboce Ave              85.0  48th Ave at Cabrillo St   \n",
       "\n",
       "   end_station_id  start_lat  start_lng    end_lat     end_lng user_type  \\\n",
       "0             NaN  37.770000 -122.40000  37.760000 -122.420000    casual   \n",
       "1             NaN  37.780000 -122.49000  37.780000 -122.460000    casual   \n",
       "2             NaN  37.800426 -122.41095  37.790000 -122.440000    casual   \n",
       "3             NaN  37.760000 -122.41000  37.770000 -122.430000    casual   \n",
       "4           521.0  37.769841 -122.42921  37.772894 -122.509079    casual   \n",
       "\n",
       "       bike_type        date hour_of_day day_of_week month   duration  \n",
       "0  electric_bike  2020-06-03          16   Wednesday  June  11.300000  \n",
       "1  electric_bike  2020-06-03          12   Wednesday  June  21.250000  \n",
       "2  electric_bike  2020-06-02          17     Tuesday  June  14.633333  \n",
       "3  electric_bike  2020-06-02          18     Tuesday  June  35.483333  \n",
       "4  electric_bike  2020-06-03          15   Wednesday  June  50.066667  "
      ]
     },
     "execution_count": 310,
     "metadata": {},
     "output_type": "execute_result"
    }
   ],
   "source": [
    "df_clean.head()"
   ]
  },
  {
   "cell_type": "code",
   "execution_count": 311,
   "metadata": {},
   "outputs": [
    {
     "data": {
      "text/plain": [
       "June     158168\n",
       "May      138251\n",
       "April     84259\n",
       "Name: month, dtype: int64"
      ]
     },
     "execution_count": 311,
     "metadata": {},
     "output_type": "execute_result"
    }
   ],
   "source": [
    "df_clean.month.value_counts()"
   ]
  },
  {
   "cell_type": "code",
   "execution_count": 312,
   "metadata": {},
   "outputs": [
    {
     "data": {
      "text/plain": [
       "2020-06-13    7236\n",
       "2020-06-06    7174\n",
       "2020-06-03    7156\n",
       "2020-05-24    7090\n",
       "2020-05-23    7051\n",
       "              ... \n",
       "2020-04-02    2321\n",
       "2020-04-08    2226\n",
       "2020-04-05    1504\n",
       "2020-04-04    1330\n",
       "2020-04-06    1177\n",
       "Name: date, Length: 91, dtype: int64"
      ]
     },
     "execution_count": 312,
     "metadata": {},
     "output_type": "execute_result"
    }
   ],
   "source": [
    "df_clean.date.value_counts()"
   ]
  },
  {
   "cell_type": "markdown",
   "metadata": {},
   "source": [
    "**Define**\n",
    "\n",
    "Convert longitude lattitude into kms\n",
    "\n",
    "* Calculations are derived from the 'haversine' formula which is used to calculate the great-circle distance between tow points, i.e. the shortest distance over the earth's surface. Thank you Google for providing a way to figure this out! Reference is listed in the sources at the end of this document."
   ]
  },
  {
   "cell_type": "markdown",
   "metadata": {},
   "source": [
    "**Code**"
   ]
  },
  {
   "cell_type": "code",
   "execution_count": 313,
   "metadata": {},
   "outputs": [],
   "source": [
    "import math\n",
    "from math import radians, sin, cos, acos\n",
    "\n",
    "def distance(origin, destination):\n",
    "\n",
    "    lat1, long1 = origin\n",
    "    lat2, long2 = destination\n",
    "    radius = 6371\n",
    "    # this is in kilometers - will convert to US units of miles after\n",
    "\n",
    "    dlat = math.radians(lat2 - lat1)\n",
    "    dlong = math.radians(long2 - long1)\n",
    "    \n",
    "    a = (math.sin(dlat / 2) * math.sin(dlat / 2) + math.cos(math.radians(lat1)) * math.cos(math.radians(lat2)) * math.sin(dlong / 2) * math.sin(dlong / 2))\n",
    "    c = 2 * math.atan2(math.sqrt(a), math.sqrt(1 - a))\n",
    "    d = radius * c\n",
    "\n",
    "    return d"
   ]
  },
  {
   "cell_type": "code",
   "execution_count": 314,
   "metadata": {},
   "outputs": [],
   "source": [
    "# Using the calcuated math on our columns for lat and long\n",
    "df_clean['distance_km'] = df_clean.apply(lambda x: distance((x['start_lat'], x['start_lng']), (x['end_lat'], x['end_lng'])), axis=1)"
   ]
  },
  {
   "cell_type": "markdown",
   "metadata": {},
   "source": [
    "**Test**"
   ]
  },
  {
   "cell_type": "code",
   "execution_count": 315,
   "metadata": {},
   "outputs": [
    {
     "data": {
      "text/html": [
       "<div>\n",
       "<style scoped>\n",
       "    .dataframe tbody tr th:only-of-type {\n",
       "        vertical-align: middle;\n",
       "    }\n",
       "\n",
       "    .dataframe tbody tr th {\n",
       "        vertical-align: top;\n",
       "    }\n",
       "\n",
       "    .dataframe thead th {\n",
       "        text-align: right;\n",
       "    }\n",
       "</style>\n",
       "<table border=\"1\" class=\"dataframe\">\n",
       "  <thead>\n",
       "    <tr style=\"text-align: right;\">\n",
       "      <th></th>\n",
       "      <th>ride_id</th>\n",
       "      <th>started_at</th>\n",
       "      <th>ended_at</th>\n",
       "      <th>start_station_name</th>\n",
       "      <th>start_station_id</th>\n",
       "      <th>end_station_name</th>\n",
       "      <th>end_station_id</th>\n",
       "      <th>start_lat</th>\n",
       "      <th>start_lng</th>\n",
       "      <th>end_lat</th>\n",
       "      <th>end_lng</th>\n",
       "      <th>user_type</th>\n",
       "      <th>bike_type</th>\n",
       "      <th>date</th>\n",
       "      <th>hour_of_day</th>\n",
       "      <th>day_of_week</th>\n",
       "      <th>month</th>\n",
       "      <th>duration</th>\n",
       "      <th>distance_km</th>\n",
       "    </tr>\n",
       "  </thead>\n",
       "  <tbody>\n",
       "    <tr>\n",
       "      <th>0</th>\n",
       "      <td>08A4A9F7315901F3</td>\n",
       "      <td>2020-06-03 16:37:10</td>\n",
       "      <td>2020-06-03 16:48:28</td>\n",
       "      <td>NaN</td>\n",
       "      <td>NaN</td>\n",
       "      <td>NaN</td>\n",
       "      <td>NaN</td>\n",
       "      <td>37.770000</td>\n",
       "      <td>-122.40000</td>\n",
       "      <td>37.76</td>\n",
       "      <td>-122.42</td>\n",
       "      <td>casual</td>\n",
       "      <td>electric_bike</td>\n",
       "      <td>2020-06-03</td>\n",
       "      <td>16</td>\n",
       "      <td>Wednesday</td>\n",
       "      <td>June</td>\n",
       "      <td>11.300000</td>\n",
       "      <td>2.080191</td>\n",
       "    </tr>\n",
       "    <tr>\n",
       "      <th>1</th>\n",
       "      <td>844F9D906468C441</td>\n",
       "      <td>2020-06-03 12:22:47</td>\n",
       "      <td>2020-06-03 12:44:02</td>\n",
       "      <td>NaN</td>\n",
       "      <td>NaN</td>\n",
       "      <td>NaN</td>\n",
       "      <td>NaN</td>\n",
       "      <td>37.780000</td>\n",
       "      <td>-122.49000</td>\n",
       "      <td>37.78</td>\n",
       "      <td>-122.46</td>\n",
       "      <td>casual</td>\n",
       "      <td>electric_bike</td>\n",
       "      <td>2020-06-03</td>\n",
       "      <td>12</td>\n",
       "      <td>Wednesday</td>\n",
       "      <td>June</td>\n",
       "      <td>21.250000</td>\n",
       "      <td>2.636550</td>\n",
       "    </tr>\n",
       "    <tr>\n",
       "      <th>2</th>\n",
       "      <td>0E441BF8A86C544E</td>\n",
       "      <td>2020-06-02 17:37:43</td>\n",
       "      <td>2020-06-02 17:52:21</td>\n",
       "      <td>Powell St at Columbus Ave</td>\n",
       "      <td>487.0</td>\n",
       "      <td>NaN</td>\n",
       "      <td>NaN</td>\n",
       "      <td>37.800426</td>\n",
       "      <td>-122.41095</td>\n",
       "      <td>37.79</td>\n",
       "      <td>-122.44</td>\n",
       "      <td>casual</td>\n",
       "      <td>electric_bike</td>\n",
       "      <td>2020-06-02</td>\n",
       "      <td>17</td>\n",
       "      <td>Tuesday</td>\n",
       "      <td>June</td>\n",
       "      <td>14.633333</td>\n",
       "      <td>2.803461</td>\n",
       "    </tr>\n",
       "  </tbody>\n",
       "</table>\n",
       "</div>"
      ],
      "text/plain": [
       "            ride_id          started_at            ended_at  \\\n",
       "0  08A4A9F7315901F3 2020-06-03 16:37:10 2020-06-03 16:48:28   \n",
       "1  844F9D906468C441 2020-06-03 12:22:47 2020-06-03 12:44:02   \n",
       "2  0E441BF8A86C544E 2020-06-02 17:37:43 2020-06-02 17:52:21   \n",
       "\n",
       "          start_station_name  start_station_id end_station_name  \\\n",
       "0                        NaN               NaN              NaN   \n",
       "1                        NaN               NaN              NaN   \n",
       "2  Powell St at Columbus Ave             487.0              NaN   \n",
       "\n",
       "   end_station_id  start_lat  start_lng  end_lat  end_lng user_type  \\\n",
       "0             NaN  37.770000 -122.40000    37.76  -122.42    casual   \n",
       "1             NaN  37.780000 -122.49000    37.78  -122.46    casual   \n",
       "2             NaN  37.800426 -122.41095    37.79  -122.44    casual   \n",
       "\n",
       "       bike_type        date hour_of_day day_of_week month   duration  \\\n",
       "0  electric_bike  2020-06-03          16   Wednesday  June  11.300000   \n",
       "1  electric_bike  2020-06-03          12   Wednesday  June  21.250000   \n",
       "2  electric_bike  2020-06-02          17     Tuesday  June  14.633333   \n",
       "\n",
       "   distance_km  \n",
       "0     2.080191  \n",
       "1     2.636550  \n",
       "2     2.803461  "
      ]
     },
     "execution_count": 315,
     "metadata": {},
     "output_type": "execute_result"
    }
   ],
   "source": [
    "df_clean.head(3)"
   ]
  },
  {
   "cell_type": "code",
   "execution_count": 316,
   "metadata": {
    "scrolled": true
   },
   "outputs": [
    {
     "data": {
      "text/plain": [
       "ride_id                    0\n",
       "started_at                 0\n",
       "ended_at                   0\n",
       "start_station_name    140709\n",
       "start_station_id      140709\n",
       "end_station_name      146890\n",
       "end_station_id        146890\n",
       "start_lat                  0\n",
       "start_lng                  0\n",
       "end_lat                  642\n",
       "end_lng                  642\n",
       "user_type                  0\n",
       "bike_type                  0\n",
       "date                       0\n",
       "hour_of_day                0\n",
       "day_of_week                0\n",
       "month                      0\n",
       "duration                   0\n",
       "distance_km              642\n",
       "dtype: int64"
      ]
     },
     "execution_count": 316,
     "metadata": {},
     "output_type": "execute_result"
    }
   ],
   "source": [
    "df_clean.isna().sum()"
   ]
  },
  {
   "cell_type": "markdown",
   "metadata": {},
   "source": [
    "#### What is the structure of your dataset?\n",
    "\n",
    "Originally there were approx. ~300000 bike rides that happen in 2020 in the San Francisco Bay Area. The dataset contained features about:\n",
    "\n",
    "* duration: start/end time, how long the trip took in seconds\n",
    "* stations: start/end station, name, geolocation (latitude/longitude)\n",
    "* anonymized customer data: user_type\n",
    "* rented bikes: bike id\n",
    "\n",
    "The dataset was further enhanced with features that I may find neccessary to perform interesting analysis:\n",
    "rental time: month, day, hour of the day, weekday (both for start and end date)\n",
    "\n",
    "#### What is/are the main feature(s) of interest in your dataset?\n",
    "\n",
    "I'm most interested in figuring out when and where bikes are high in demand (during the day/weekday/month). \n",
    "\n",
    "#### What features in the dataset do you think will help support your investigation into your feature(s) of interest?\n",
    "\n",
    "I expect that the start time will be most exploited in my analysis as well as customer related data. I expect that location and datetime will have the strongest effect on bike demand."
   ]
  },
  {
   "cell_type": "markdown",
   "metadata": {},
   "source": [
    "**Convert to csv**"
   ]
  },
  {
   "cell_type": "code",
   "execution_count": 317,
   "metadata": {},
   "outputs": [],
   "source": [
    "# save the cleaned data to csv file\n",
    "df_clean.to_csv('fordgobike-tripdata_clean.csv',index=None)"
   ]
  },
  {
   "cell_type": "code",
   "execution_count": 318,
   "metadata": {},
   "outputs": [
    {
     "data": {
      "text/html": [
       "<div>\n",
       "<style scoped>\n",
       "    .dataframe tbody tr th:only-of-type {\n",
       "        vertical-align: middle;\n",
       "    }\n",
       "\n",
       "    .dataframe tbody tr th {\n",
       "        vertical-align: top;\n",
       "    }\n",
       "\n",
       "    .dataframe thead th {\n",
       "        text-align: right;\n",
       "    }\n",
       "</style>\n",
       "<table border=\"1\" class=\"dataframe\">\n",
       "  <thead>\n",
       "    <tr style=\"text-align: right;\">\n",
       "      <th></th>\n",
       "      <th>ride_id</th>\n",
       "      <th>started_at</th>\n",
       "      <th>ended_at</th>\n",
       "      <th>start_station_name</th>\n",
       "      <th>start_station_id</th>\n",
       "      <th>end_station_name</th>\n",
       "      <th>end_station_id</th>\n",
       "      <th>start_lat</th>\n",
       "      <th>start_lng</th>\n",
       "      <th>end_lat</th>\n",
       "      <th>end_lng</th>\n",
       "      <th>user_type</th>\n",
       "      <th>bike_type</th>\n",
       "      <th>date</th>\n",
       "      <th>hour_of_day</th>\n",
       "      <th>day_of_week</th>\n",
       "      <th>month</th>\n",
       "      <th>duration</th>\n",
       "      <th>distance_km</th>\n",
       "    </tr>\n",
       "  </thead>\n",
       "  <tbody>\n",
       "    <tr>\n",
       "      <th>0</th>\n",
       "      <td>08A4A9F7315901F3</td>\n",
       "      <td>2020-06-03 16:37:10</td>\n",
       "      <td>2020-06-03 16:48:28</td>\n",
       "      <td>NaN</td>\n",
       "      <td>NaN</td>\n",
       "      <td>NaN</td>\n",
       "      <td>NaN</td>\n",
       "      <td>37.770000</td>\n",
       "      <td>-122.40000</td>\n",
       "      <td>37.760000</td>\n",
       "      <td>-122.420000</td>\n",
       "      <td>casual</td>\n",
       "      <td>electric_bike</td>\n",
       "      <td>2020-06-03</td>\n",
       "      <td>16</td>\n",
       "      <td>Wednesday</td>\n",
       "      <td>June</td>\n",
       "      <td>11.300000</td>\n",
       "      <td>2.080191</td>\n",
       "    </tr>\n",
       "    <tr>\n",
       "      <th>1</th>\n",
       "      <td>844F9D906468C441</td>\n",
       "      <td>2020-06-03 12:22:47</td>\n",
       "      <td>2020-06-03 12:44:02</td>\n",
       "      <td>NaN</td>\n",
       "      <td>NaN</td>\n",
       "      <td>NaN</td>\n",
       "      <td>NaN</td>\n",
       "      <td>37.780000</td>\n",
       "      <td>-122.49000</td>\n",
       "      <td>37.780000</td>\n",
       "      <td>-122.460000</td>\n",
       "      <td>casual</td>\n",
       "      <td>electric_bike</td>\n",
       "      <td>2020-06-03</td>\n",
       "      <td>12</td>\n",
       "      <td>Wednesday</td>\n",
       "      <td>June</td>\n",
       "      <td>21.250000</td>\n",
       "      <td>2.636550</td>\n",
       "    </tr>\n",
       "    <tr>\n",
       "      <th>2</th>\n",
       "      <td>0E441BF8A86C544E</td>\n",
       "      <td>2020-06-02 17:37:43</td>\n",
       "      <td>2020-06-02 17:52:21</td>\n",
       "      <td>Powell St at Columbus Ave</td>\n",
       "      <td>487.0</td>\n",
       "      <td>NaN</td>\n",
       "      <td>NaN</td>\n",
       "      <td>37.800426</td>\n",
       "      <td>-122.41095</td>\n",
       "      <td>37.790000</td>\n",
       "      <td>-122.440000</td>\n",
       "      <td>casual</td>\n",
       "      <td>electric_bike</td>\n",
       "      <td>2020-06-02</td>\n",
       "      <td>17</td>\n",
       "      <td>Tuesday</td>\n",
       "      <td>June</td>\n",
       "      <td>14.633333</td>\n",
       "      <td>2.803461</td>\n",
       "    </tr>\n",
       "    <tr>\n",
       "      <th>3</th>\n",
       "      <td>CAFE64864422F475</td>\n",
       "      <td>2020-06-02 18:13:01</td>\n",
       "      <td>2020-06-02 18:48:30</td>\n",
       "      <td>NaN</td>\n",
       "      <td>NaN</td>\n",
       "      <td>NaN</td>\n",
       "      <td>NaN</td>\n",
       "      <td>37.760000</td>\n",
       "      <td>-122.41000</td>\n",
       "      <td>37.770000</td>\n",
       "      <td>-122.430000</td>\n",
       "      <td>casual</td>\n",
       "      <td>electric_bike</td>\n",
       "      <td>2020-06-02</td>\n",
       "      <td>18</td>\n",
       "      <td>Tuesday</td>\n",
       "      <td>June</td>\n",
       "      <td>35.483333</td>\n",
       "      <td>2.080191</td>\n",
       "    </tr>\n",
       "    <tr>\n",
       "      <th>4</th>\n",
       "      <td>172957A20160D568</td>\n",
       "      <td>2020-06-03 15:16:06</td>\n",
       "      <td>2020-06-03 16:06:10</td>\n",
       "      <td>Church St at Duboce Ave</td>\n",
       "      <td>85.0</td>\n",
       "      <td>48th Ave at Cabrillo St</td>\n",
       "      <td>521.0</td>\n",
       "      <td>37.769841</td>\n",
       "      <td>-122.42921</td>\n",
       "      <td>37.772894</td>\n",
       "      <td>-122.509079</td>\n",
       "      <td>casual</td>\n",
       "      <td>electric_bike</td>\n",
       "      <td>2020-06-03</td>\n",
       "      <td>15</td>\n",
       "      <td>Wednesday</td>\n",
       "      <td>June</td>\n",
       "      <td>50.066667</td>\n",
       "      <td>7.028324</td>\n",
       "    </tr>\n",
       "  </tbody>\n",
       "</table>\n",
       "</div>"
      ],
      "text/plain": [
       "            ride_id           started_at             ended_at  \\\n",
       "0  08A4A9F7315901F3  2020-06-03 16:37:10  2020-06-03 16:48:28   \n",
       "1  844F9D906468C441  2020-06-03 12:22:47  2020-06-03 12:44:02   \n",
       "2  0E441BF8A86C544E  2020-06-02 17:37:43  2020-06-02 17:52:21   \n",
       "3  CAFE64864422F475  2020-06-02 18:13:01  2020-06-02 18:48:30   \n",
       "4  172957A20160D568  2020-06-03 15:16:06  2020-06-03 16:06:10   \n",
       "\n",
       "          start_station_name  start_station_id         end_station_name  \\\n",
       "0                        NaN               NaN                      NaN   \n",
       "1                        NaN               NaN                      NaN   \n",
       "2  Powell St at Columbus Ave             487.0                      NaN   \n",
       "3                        NaN               NaN                      NaN   \n",
       "4    Church St at Duboce Ave              85.0  48th Ave at Cabrillo St   \n",
       "\n",
       "   end_station_id  start_lat  start_lng    end_lat     end_lng user_type  \\\n",
       "0             NaN  37.770000 -122.40000  37.760000 -122.420000    casual   \n",
       "1             NaN  37.780000 -122.49000  37.780000 -122.460000    casual   \n",
       "2             NaN  37.800426 -122.41095  37.790000 -122.440000    casual   \n",
       "3             NaN  37.760000 -122.41000  37.770000 -122.430000    casual   \n",
       "4           521.0  37.769841 -122.42921  37.772894 -122.509079    casual   \n",
       "\n",
       "       bike_type        date  hour_of_day day_of_week month   duration  \\\n",
       "0  electric_bike  2020-06-03           16   Wednesday  June  11.300000   \n",
       "1  electric_bike  2020-06-03           12   Wednesday  June  21.250000   \n",
       "2  electric_bike  2020-06-02           17     Tuesday  June  14.633333   \n",
       "3  electric_bike  2020-06-02           18     Tuesday  June  35.483333   \n",
       "4  electric_bike  2020-06-03           15   Wednesday  June  50.066667   \n",
       "\n",
       "   distance_km  \n",
       "0     2.080191  \n",
       "1     2.636550  \n",
       "2     2.803461  \n",
       "3     2.080191  \n",
       "4     7.028324  "
      ]
     },
     "execution_count": 318,
     "metadata": {},
     "output_type": "execute_result"
    }
   ],
   "source": [
    "df_final = pd.read_csv('fordgobike-tripdata_clean.csv')\n",
    "df_final.head()"
   ]
  },
  {
   "cell_type": "markdown",
   "metadata": {},
   "source": [
    "# Data Exploration and Analysis"
   ]
  },
  {
   "cell_type": "markdown",
   "metadata": {},
   "source": [
    "## Univariate Exploration"
   ]
  },
  {
   "cell_type": "markdown",
   "metadata": {},
   "source": [
    "### What is the distribution of the number of trips by the start `hour` of a day?"
   ]
  },
  {
   "cell_type": "code",
   "execution_count": 319,
   "metadata": {},
   "outputs": [
    {
     "data": {
      "image/png": "[encoded data removed]",
      "text/plain": [
       "<Figure size 648x504 with 1 Axes>"
      ]
     },
     "metadata": {},
     "output_type": "display_data"
    }
   ],
   "source": [
    "# Visualizing distribution of trips by hours\n",
    "\n",
    "plt.rcParams['figure.figsize'] = 9, 7\n",
    "base_color = sns.color_palette('colorblind')[0]\n",
    "sns.set_style('darkgrid')\n",
    "\n",
    "sns.countplot(data=df_final, x='hour_of_day', color=base_color)\n",
    "plt.xlabel('(Starting) hour of day', fontsize=14)\n",
    "plt.ylabel('Count', fontsize=14)\n",
    "plt.title(\"Distribution of trips by the start hour of day\", fontsize=16);"
   ]
  },
  {
   "cell_type": "markdown",
   "metadata": {},
   "source": [
    "### What is monthly trend of number of bike rentals and distribution of weekdays."
   ]
  },
  {
   "cell_type": "code",
   "execution_count": 320,
   "metadata": {},
   "outputs": [
    {
     "data": {
      "image/png": "[encoded data removed]",
      "text/plain": [
       "<Figure size 360x360 with 1 Axes>"
      ]
     },
     "metadata": {},
     "output_type": "display_data"
    }
   ],
   "source": [
    "# monthly usege of the bike sharing system\n",
    "g = sns.catplot(data=df_final, x='month', kind='count', color = base_color)\n",
    "g.set_axis_labels(\"Month\", \"#Bike Trips\")\n",
    "g.fig.suptitle('Monthly usage of the bike share system', y=1.03, fontsize=14, fontweight='semibold');"
   ]
  },
  {
   "cell_type": "markdown",
   "metadata": {},
   "source": [
    "### Number of bikes rented and duration of trip."
   ]
  },
  {
   "cell_type": "code",
   "execution_count": 321,
   "metadata": {},
   "outputs": [
    {
     "data": {
      "image/png": "[encoded data removed]",
      "text/plain": [
       "<Figure size 648x504 with 1 Axes>"
      ]
     },
     "metadata": {},
     "output_type": "display_data"
    }
   ],
   "source": [
    "# Duration of the bike rides -in MINUTES\n",
    "bin_edges = np.arange(0, 45, 1)\n",
    "ticks = [0, 5, 10, 15, 20, 25, 30,  35, 40, 45]\n",
    "labels = ['{}'.format(val) for val in ticks]\n",
    "\n",
    "plt.hist(data = df_final, x = 'duration', bins = bin_edges, rwidth = 0.6);\n",
    "#sb.distplot(df_cleaned['duration_min'], bins = bin_edges, kde = False, hist_kws = {'alpha' : 1});\n",
    "\n",
    "plt.title(\"Ford GoBike System Trip Duration in Minutes\", y=1.05, fontsize=16, fontweight='bold')\n",
    "plt.xlabel('Duration (Min)')\n",
    "plt.xticks(ticks, labels)\n",
    "plt.ylabel('Number of Bike Trips');"
   ]
  },
  {
   "cell_type": "markdown",
   "metadata": {},
   "source": [
    "### What kind of users do the higest booking of book."
   ]
  },
  {
   "cell_type": "code",
   "execution_count": 322,
   "metadata": {},
   "outputs": [
    {
     "data": {
      "image/png": "[encoded data removed]",
      "text/plain": [
       "<Figure size 648x504 with 1 Axes>"
      ]
     },
     "metadata": {},
     "output_type": "display_data"
    }
   ],
   "source": [
    "plt.hist(data = df_final, x = 'user_type');\n",
    "plt.title(\"Type of user renting bike\", y=1.05, fontsize=16, fontweight='bold')\n",
    "plt.xlabel('Subscription type')\n",
    "plt.ylabel('Number of Bike Trips');"
   ]
  },
  {
   "cell_type": "markdown",
   "metadata": {},
   "source": [
    "### What is weekdays trend of distribution of number of bike rentals."
   ]
  },
  {
   "cell_type": "code",
   "execution_count": 323,
   "metadata": {},
   "outputs": [
    {
     "data": {
      "image/png": "[encoded data removed]",
      "text/plain": [
       "<Figure size 648x504 with 1 Axes>"
      ]
     },
     "metadata": {},
     "output_type": "display_data"
    }
   ],
   "source": [
    "# Visualizing distribution of trips by days\n",
    "\n",
    "weekday = ['Monday', 'Tuesday', 'Wednesday', 'Thursday', 'Friday', 'Saturday', 'Sunday']\n",
    "weekdaycat = pd.api.types.CategoricalDtype(ordered=True, categories=weekday)\n",
    "df_final['day_of_week'] = df_final['day_of_week'].astype(weekdaycat)\n",
    "\n",
    "sns.countplot(data=df_final, x='day_of_week', color=base_color)\n",
    "plt.xlabel('Day of week', fontsize=14)\n",
    "plt.ylabel('Count', fontsize=14)\n",
    "plt.title(\"Distribution of trips by the start day of week\", fontsize=16);"
   ]
  },
  {
   "cell_type": "markdown",
   "metadata": {},
   "source": [
    "### Bike renting trend during the hour of the day."
   ]
  },
  {
   "cell_type": "code",
   "execution_count": 324,
   "metadata": {
    "scrolled": false
   },
   "outputs": [
    {
     "data": {
      "image/png": "[encoded data removed]",
      "text/plain": [
       "<Figure size 648x504 with 1 Axes>"
      ]
     },
     "metadata": {},
     "output_type": "display_data"
    }
   ],
   "source": [
    "sns.countplot(data = df_final, x = 'hour_of_day');"
   ]
  },
  {
   "cell_type": "markdown",
   "metadata": {},
   "source": [
    "8:00 AM and 5:00 PM are the two peak hours which have most bikers."
   ]
  },
  {
   "cell_type": "markdown",
   "metadata": {},
   "source": [
    "##### Insights from univariate data exploration\n",
    "\n",
    "1. The most busy hour is `5 PM` , second busy hour is `8AM`. The busy hours are `7-9 AM` in morning and `4PM-6PM` in the evening.\n",
    "2. On Saturdays and Sundays people tend to use the bike service less\n",
    "3. Majority of the useres were casuals.\n",
    "4. Overall, people tend to rent a bike for less than an hour\n",
    "\n",
    "#### Discuss the distribution(s) of your variable(s) of interest. Were there any unusual points? Did you need to perform any transformations?\n",
    "\n",
    "1. Duration in seconds had a lot of outliers which were trimmed using Z score as the determinant.\n",
    "2. Duration in minutes also had outliers which is analysis for trips > 77 mins.\n",
    "\n",
    "#### The features you investigated, were there any unusual distributions? Did you perform any operations on the data to tidy, adjust, or change the form of the data? If so, why did you do this?\n",
    "\n",
    "One of the most interesting observations was the relationship between user type and hour of the trip. While Subscribers rented it in the mornings and evenings, Customers rented it sporadically, peaking slightly in the afternoon, suggesting that Subscribers used the bikes as a mode of transport for work"
   ]
  },
  {
   "cell_type": "markdown",
   "metadata": {},
   "source": [
    "# Bivariate Exploration"
   ]
  },
  {
   "cell_type": "code",
   "execution_count": 325,
   "metadata": {},
   "outputs": [
    {
     "data": {
      "text/plain": [
       "casual    226098\n",
       "member    154580\n",
       "Name: user_type, dtype: int64"
      ]
     },
     "execution_count": 325,
     "metadata": {},
     "output_type": "execute_result"
    }
   ],
   "source": [
    "df_final.user_type.value_counts()"
   ]
  },
  {
   "cell_type": "code",
   "execution_count": 326,
   "metadata": {},
   "outputs": [],
   "source": [
    "# Customers vs Subscribers\n",
    "customer = df_final.query('user_type == \"casual\"')['ride_id'].count()\n",
    "subscriber = df_final.query('user_type == \"member\"')['ride_id'].count()\n",
    "customer_prop = customer / df_final['ride_id'].count()\n",
    "subscriber_prop = subscriber / df_final['ride_id'].count()"
   ]
  },
  {
   "cell_type": "code",
   "execution_count": 327,
   "metadata": {},
   "outputs": [
    {
     "data": {
      "image/png": "[encoded data removed]",
      "text/plain": [
       "<Figure size 576x360 with 1 Axes>"
      ]
     },
     "metadata": {},
     "output_type": "display_data"
    }
   ],
   "source": [
    "# Customers vs Subscribers Visuals\n",
    "# pie chart\n",
    "plt.figure(figsize = [8, 5])\n",
    "\n",
    "labels = ['Customer', 'Subscriber']\n",
    "size = [customer_prop, subscriber_prop]\n",
    "explode = (0, 0.3)\n",
    "\n",
    "plt.pie(size, explode=explode, labels = labels, autopct='%1.1f%%', shadow=True, startangle=90, textprops={'color':'white'})\n",
    "plt.axis('equal')\n",
    "plt.legend()\n",
    "plt.suptitle('Ford GoBike System - Customers vs. Subscribers', y=1.05, fontsize=16, fontweight='bold');"
   ]
  },
  {
   "cell_type": "code",
   "execution_count": 328,
   "metadata": {},
   "outputs": [
    {
     "data": {
      "image/png": "[encoded data removed]",
      "text/plain": [
       "<Figure size 720x360 with 2 Axes>"
      ]
     },
     "metadata": {},
     "output_type": "display_data"
    }
   ],
   "source": [
    "graph = sns.catplot(data=df_final, x='month', col=\"user_type\", kind='count', sharey = True);\n",
    "\n",
    "graph.set_axis_labels(\"Month\", \"Number of Bike Trips\");\n",
    "graph.set_titles(\"{col_name}\");\n",
    "\n",
    "graph.fig.suptitle('Ford GoBike System - Customers vs. Subscribers', y=1.05, fontsize=16, fontweight='bold');\n",
    "graph.set_xticklabels(rotation=75);"
   ]
  },
  {
   "cell_type": "markdown",
   "metadata": {},
   "source": [
    "### User type hourly usage"
   ]
  },
  {
   "cell_type": "code",
   "execution_count": 329,
   "metadata": {},
   "outputs": [
    {
     "data": {
      "image/png": "[encoded data removed]",
      "text/plain": [
       "<Figure size 720x360 with 2 Axes>"
      ]
     },
     "metadata": {},
     "output_type": "display_data"
    }
   ],
   "source": [
    "# hourly usege of the bike sharing system per user type\n",
    "\n",
    "g = sns.catplot(data=df_final, x='hour_of_day', col=\"user_type\", kind='count', sharey = False)\n",
    "g.set_axis_labels(\"Hour\", \"#Bike Trips\")\n",
    "g.set_titles(\"{col_name}\")\n",
    "g.fig.suptitle('Hourly usage of the bike share system per user type', y=1.03, fontsize=14, fontweight='semibold');"
   ]
  },
  {
   "cell_type": "markdown",
   "metadata": {},
   "source": [
    "### Trip duration for user type"
   ]
  },
  {
   "cell_type": "code",
   "execution_count": 330,
   "metadata": {},
   "outputs": [
    {
     "name": "stderr",
     "output_type": "stream",
     "text": [
      "/Users/karandeepbhardwaj/opt/anaconda3/envs/py3/lib/python3.7/site-packages/seaborn/axisgrid.py:230: UserWarning: The `size` paramter has been renamed to `height`; please update your code.\n",
      "  warnings.warn(msg, UserWarning)\n"
     ]
    },
    {
     "data": {
      "image/png": "[encoded data removed]",
      "text/plain": [
       "<Figure size 720x360 with 2 Axes>"
      ]
     },
     "metadata": {},
     "output_type": "display_data"
    }
   ],
   "source": [
    "g = sns.FacetGrid(df_final, col=\"user_type\", margin_titles=True, size=5)\n",
    "bin_edges = np.arange(0, 400,60)\n",
    "\n",
    "g.map(plt.hist, \"duration\", color=base_color, bins=bin_edges)\n",
    "g.set_axis_labels(\"Duration(sec)\", \"#Bike Trips\")\n",
    "g.set_titles(col_template = '{col_name}')\n",
    "g.fig.suptitle('Trip duration (min) histogram per user type', y=1.03, fontsize=14, fontweight='semibold');"
   ]
  },
  {
   "cell_type": "markdown",
   "metadata": {},
   "source": [
    "#### Does the average duration depend on if a user is a subscriber or customer?"
   ]
  },
  {
   "cell_type": "code",
   "execution_count": 331,
   "metadata": {},
   "outputs": [
    {
     "data": {
      "image/png": "[encoded data removed]",
      "text/plain": [
       "<Figure size 648x504 with 1 Axes>"
      ]
     },
     "metadata": {},
     "output_type": "display_data"
    }
   ],
   "source": [
    "sns.violinplot(data=df_final[df_final.duration<=100],x='user_type',y='duration');"
   ]
  },
  {
   "cell_type": "markdown",
   "metadata": {},
   "source": [
    "# Multivariate Exploration"
   ]
  },
  {
   "cell_type": "code",
   "execution_count": 332,
   "metadata": {},
   "outputs": [
    {
     "name": "stdout",
     "output_type": "stream",
     "text": [
      "<class 'pandas.core.frame.DataFrame'>\n",
      "RangeIndex: 380678 entries, 0 to 380677\n",
      "Data columns (total 19 columns):\n",
      " #   Column              Non-Null Count   Dtype   \n",
      "---  ------              --------------   -----   \n",
      " 0   ride_id             380678 non-null  object  \n",
      " 1   started_at          380678 non-null  object  \n",
      " 2   ended_at            380678 non-null  object  \n",
      " 3   start_station_name  239969 non-null  object  \n",
      " 4   start_station_id    239969 non-null  float64 \n",
      " 5   end_station_name    233788 non-null  object  \n",
      " 6   end_station_id      233788 non-null  float64 \n",
      " 7   start_lat           380678 non-null  float64 \n",
      " 8   start_lng           380678 non-null  float64 \n",
      " 9   end_lat             380036 non-null  float64 \n",
      " 10  end_lng             380036 non-null  float64 \n",
      " 11  user_type           380678 non-null  object  \n",
      " 12  bike_type           380678 non-null  object  \n",
      " 13  date                380678 non-null  object  \n",
      " 14  hour_of_day         380678 non-null  int64   \n",
      " 15  day_of_week         380678 non-null  category\n",
      " 16  month               380678 non-null  object  \n",
      " 17  duration            380678 non-null  float64 \n",
      " 18  distance_km         380036 non-null  float64 \n",
      "dtypes: category(1), float64(8), int64(1), object(9)\n",
      "memory usage: 52.6+ MB\n"
     ]
    }
   ],
   "source": [
    "df_final.info()"
   ]
  },
  {
   "cell_type": "code",
   "execution_count": 335,
   "metadata": {},
   "outputs": [
    {
     "data": {
      "image/png": "[encoded data removed]",
      "text/plain": [
       "<Figure size 1440x1440 with 6 Axes>"
      ]
     },
     "metadata": {},
     "output_type": "display_data"
    }
   ],
   "source": [
    "plt.figure(figsize = [20, 20]);\n",
    "\n",
    "\n",
    "plt.subplot(6, 1, 1);\n",
    "sns.countplot(data = df_final, x = 'hour_of_day', hue = 'day_of_week', palette = 'Blues');\n",
    "\n",
    "\n",
    "ax = plt.subplot(6, 1, 2);\n",
    "sns.countplot(data = df_final, x = 'hour_of_day', hue = 'bike_type', palette = 'Blues');\n",
    "ax.legend(ncol = 2); # re-arrange legend to reduce overlapping\n",
    "\n",
    "\n",
    "ax = plt.subplot(6, 1, 3);\n",
    "sns.countplot(data = df_final, x = 'hour_of_day', hue = 'user_type', palette = 'Greens');\n",
    "ax.legend(loc = 1, ncol = 2); # re-arrange legend to remove overlapping\n",
    "\n",
    "ax = plt.subplot(6, 1, 4);\n",
    "sns.countplot(data = df_final, x = 'day_of_week', hue = 'bike_type', palette = 'Greens');\n",
    "\n",
    "ax = plt.subplot(6, 1, 5);\n",
    "sns.countplot(data = df_final, x = 'day_of_week', hue = 'user_type', palette = 'autumn');\n",
    "\n",
    "ax = plt.subplot(6, 1, 6);\n",
    "\n",
    "sns.countplot(data = df_final, x = 'bike_type', hue = 'user_type', palette = 'spring');"
   ]
  },
  {
   "cell_type": "markdown",
   "metadata": {},
   "source": [
    "#### Observations from above plots:\n",
    "\n",
    "1. Saturday, 2:00 PM has the highest biker counts across 7 days, 24 hours.\n",
    "2. 2:00 PM has the most male bikers compared to other hours. 8:00 AM and 5:00 PM have more electric bikes compared to other hours.\n",
    "3. 2:00 PM has the most 'Member' bikers compared to other hours. It also has the most 'Casual' bikers compared to other hours.\n",
    "4. Saturdays has the most Electric bikes compared to other days. It also has the most Docked bikes compared to other days.\n",
    "5. Saturday has the most 'Member' bikers compared to other days. Saturday has the most 'Casual' bikers compared to other days.\n",
    "6. Most 'Member' are Electric bike driver. Most 'Casual' bikers are Electric bike driver."
   ]
  },
  {
   "cell_type": "markdown",
   "metadata": {},
   "source": [
    "## 2-d bar chart Bike_type vs user_type vs distance"
   ]
  },
  {
   "cell_type": "code",
   "execution_count": 336,
   "metadata": {
    "scrolled": true
   },
   "outputs": [
    {
     "data": {
      "image/png": "[encoded data removed]",
      "text/plain": [
       "<Figure size 648x504 with 2 Axes>"
      ]
     },
     "metadata": {},
     "output_type": "display_data"
    }
   ],
   "source": [
    "cat_means = df_final.groupby(['bike_type', 'user_type']).mean()['distance_km']\n",
    "cat_means = cat_means.reset_index(name = 'distance_km')\n",
    "cat_means = cat_means.pivot(index = 'user_type', columns = 'bike_type',\n",
    "                            values = 'distance_km')\n",
    "sns.heatmap(cat_means, annot = True, fmt = '.3f',\n",
    "           cbar_kws = {'label' : 'mean(distance_km)'});"
   ]
  },
  {
   "cell_type": "markdown",
   "metadata": {},
   "source": [
    "## 2-d bar chart bike_type vs user_type vs duration"
   ]
  },
  {
   "cell_type": "code",
   "execution_count": 337,
   "metadata": {},
   "outputs": [
    {
     "data": {
      "image/png": "[encoded data removed]",
      "text/plain": [
       "<Figure size 648x504 with 2 Axes>"
      ]
     },
     "metadata": {},
     "output_type": "display_data"
    }
   ],
   "source": [
    "cat_means = df_final.groupby(['bike_type', 'user_type']).mean()['duration']\n",
    "cat_means = cat_means.reset_index(name = 'duration_avg')\n",
    "cat_means = cat_means.pivot(index = 'user_type', columns = 'bike_type',\n",
    "                            values = 'duration_avg')\n",
    "sns.heatmap(cat_means, annot = True, fmt = '.3f',\n",
    "           cbar_kws = {'label' : 'mean(duration__ag)'});"
   ]
  },
  {
   "cell_type": "markdown",
   "metadata": {},
   "source": [
    "* Customers use the bike sharing system more often on weekends:\n",
    "\n",
    "* weekdays: most bike rides hapen around 8-9am and 5-6pm with the peak on Fridays around 5pm\n",
    "* weekends: most bike rides happen between 10am - 8pm with the peak on Saturdays around 2pm\n",
    "\n",
    "* Members use the bike sharing system mainly on weekdays:\n",
    "* weekdays: most bike rides hapen around 8-9am and 5-6pm with the peak on Tuesdays around 8am\n",
    "* weekends: bikes are still rented but there is a significant drop in numbers of rented bikes throughout the entire weekends\n",
    "\n",
    "### Talk about some of the relationships you observed in this part of the investigation. Were there features that strengthened each other in terms of looking at your feature(s) of interest?\n",
    "The trend within weekdays for customers follows (although customers are rather not early birds) the one for subscribers who rent bikes mainly around commute hours (8-9am and 5-6pm). For customers, as depicted in univariate explorations, most of the trips happen on weekends but mainly between 10am - 8pm with the peak on Saturdays around 2pm, what was previosly not visible.\n",
    "\n",
    "### Were there any interesting or surprising interactions between features?\n",
    "For both types of users the distribution of rides during the weekdays depends a lot on the hour of the day and the month of the year.As expected, trip data seems to be most during the 9 am to 6 pm timeline, across stations with high traffic."
   ]
  },
  {
   "cell_type": "markdown",
   "metadata": {},
   "source": [
    "* Bike rides on Saturday and Sunday have longer durations compared to bike rides on other weekdays.\n",
    "* 4:00 AM has least bikers while 2:00 PM has the most bikers.\n",
    "* Electric bikers bike longer on average compared to Docked bikers.\n",
    "* 'Casual' bikers bike longer on average compared to 'Member' bikers.\n",
    "* The bikers are the least in 3:00 AM and 4:00 AM.\n",
    "* There are less bikers on Saturday and on Sundays on average."
   ]
  }
 ],
 "metadata": {
  "kernelspec": {
   "display_name": "Python 3",
   "language": "python",
   "name": "python3"
  },
  "language_info": {
   "codemirror_mode": {
    "name": "ipython",
    "version": 3
   },
   "file_extension": ".py",
   "mimetype": "text/x-python",
   "name": "python",
   "nbconvert_exporter": "python",
   "pygments_lexer": "ipython3",
   "version": "3.7.7"
  }
 },
 "nbformat": 4,
 "nbformat_minor": 4
}
