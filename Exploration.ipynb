{
 "cells": [
  {
   "cell_type": "markdown",
   "metadata": {},
   "source": [
    "# Introduction\n",
    "\n",
    "### Table of Contents\n",
    "\n",
    "**Introduction**\n",
    "\n",
    "* **Part I** - Gathering Data\n",
    "* **Part II** - Assessing Data\n",
    "* **Part III** - Cleaning Data\n",
    "* **Part IV** - Univariate Exploration\n",
    "* **Part V** - Bivariate Exploration\n",
    "* **Part VI** - Multivariate Exploration"
   ]
  },
  {
   "cell_type": "markdown",
   "metadata": {},
   "source": [
    "# Preliminary Wrangling"
   ]
  },
  {
   "cell_type": "markdown",
   "metadata": {},
   "source": [
    "# Gather"
   ]
  },
  {
   "cell_type": "markdown",
   "metadata": {},
   "source": [
    "#### Import Libraries"
   ]
  },
  {
   "cell_type": "code",
   "execution_count": 1,
   "metadata": {},
   "outputs": [],
   "source": [
    "# import all packages\n",
    "import numpy as np\n",
    "import pandas as pd\n",
    "import matplotlib.pyplot as plt\n",
    "import seaborn as sns\n",
    "import datetime\n",
    "\n",
    "import glob\n",
    "import os\n",
    "\n",
    "%matplotlib inline"
   ]
  },
  {
   "cell_type": "markdown",
   "metadata": {},
   "source": [
    "#### Gather data from folder"
   ]
  },
  {
   "cell_type": "code",
   "execution_count": 2,
   "metadata": {},
   "outputs": [],
   "source": [
    "path = r'/Users/karandeepbhardwaj/Documents/Exploring-Lyft-s-FordGoBike-Data-from-2020/Data'"
   ]
  },
  {
   "cell_type": "markdown",
   "metadata": {},
   "source": [
    "#### Find all files in the folder"
   ]
  },
  {
   "cell_type": "code",
   "execution_count": 3,
   "metadata": {},
   "outputs": [],
   "source": [
    "files = glob.glob(os.path.join(path, \"*.csv\"))"
   ]
  },
  {
   "cell_type": "markdown",
   "metadata": {},
   "source": [
    "#### Merge all the files"
   ]
  },
  {
   "cell_type": "code",
   "execution_count": 4,
   "metadata": {
    "scrolled": true
   },
   "outputs": [],
   "source": [
    "merged_df = pd.concat((pd.read_csv(f) for f in files), ignore_index = True)"
   ]
  },
  {
   "cell_type": "code",
   "execution_count": 5,
   "metadata": {},
   "outputs": [
    {
     "data": {
      "text/html": [
       "<div>\n",
       "<style scoped>\n",
       "    .dataframe tbody tr th:only-of-type {\n",
       "        vertical-align: middle;\n",
       "    }\n",
       "\n",
       "    .dataframe tbody tr th {\n",
       "        vertical-align: top;\n",
       "    }\n",
       "\n",
       "    .dataframe thead th {\n",
       "        text-align: right;\n",
       "    }\n",
       "</style>\n",
       "<table border=\"1\" class=\"dataframe\">\n",
       "  <thead>\n",
       "    <tr style=\"text-align: right;\">\n",
       "      <th></th>\n",
       "      <th>ride_id</th>\n",
       "      <th>rideable_type</th>\n",
       "      <th>started_at</th>\n",
       "      <th>ended_at</th>\n",
       "      <th>start_station_name</th>\n",
       "      <th>start_station_id</th>\n",
       "      <th>end_station_name</th>\n",
       "      <th>end_station_id</th>\n",
       "      <th>start_lat</th>\n",
       "      <th>start_lng</th>\n",
       "      <th>end_lat</th>\n",
       "      <th>end_lng</th>\n",
       "      <th>member_casual</th>\n",
       "      <th>is_equity</th>\n",
       "    </tr>\n",
       "  </thead>\n",
       "  <tbody>\n",
       "    <tr>\n",
       "      <th>0</th>\n",
       "      <td>08A4A9F7315901F3</td>\n",
       "      <td>electric_bike</td>\n",
       "      <td>2020-06-03 16:37:10</td>\n",
       "      <td>2020-06-03 16:48:28</td>\n",
       "      <td>NaN</td>\n",
       "      <td>NaN</td>\n",
       "      <td>NaN</td>\n",
       "      <td>NaN</td>\n",
       "      <td>37.770000</td>\n",
       "      <td>-122.40000</td>\n",
       "      <td>37.760000</td>\n",
       "      <td>-122.420000</td>\n",
       "      <td>casual</td>\n",
       "      <td>NaN</td>\n",
       "    </tr>\n",
       "    <tr>\n",
       "      <th>1</th>\n",
       "      <td>844F9D906468C441</td>\n",
       "      <td>electric_bike</td>\n",
       "      <td>2020-06-03 12:22:47</td>\n",
       "      <td>2020-06-03 12:44:02</td>\n",
       "      <td>NaN</td>\n",
       "      <td>NaN</td>\n",
       "      <td>NaN</td>\n",
       "      <td>NaN</td>\n",
       "      <td>37.780000</td>\n",
       "      <td>-122.49000</td>\n",
       "      <td>37.780000</td>\n",
       "      <td>-122.460000</td>\n",
       "      <td>casual</td>\n",
       "      <td>NaN</td>\n",
       "    </tr>\n",
       "    <tr>\n",
       "      <th>2</th>\n",
       "      <td>0E441BF8A86C544E</td>\n",
       "      <td>electric_bike</td>\n",
       "      <td>2020-06-02 17:37:43</td>\n",
       "      <td>2020-06-02 17:52:21</td>\n",
       "      <td>Powell St at Columbus Ave</td>\n",
       "      <td>487.0</td>\n",
       "      <td>NaN</td>\n",
       "      <td>NaN</td>\n",
       "      <td>37.800426</td>\n",
       "      <td>-122.41095</td>\n",
       "      <td>37.790000</td>\n",
       "      <td>-122.440000</td>\n",
       "      <td>casual</td>\n",
       "      <td>NaN</td>\n",
       "    </tr>\n",
       "    <tr>\n",
       "      <th>3</th>\n",
       "      <td>CAFE64864422F475</td>\n",
       "      <td>electric_bike</td>\n",
       "      <td>2020-06-02 18:13:01</td>\n",
       "      <td>2020-06-02 18:48:30</td>\n",
       "      <td>NaN</td>\n",
       "      <td>NaN</td>\n",
       "      <td>NaN</td>\n",
       "      <td>NaN</td>\n",
       "      <td>37.760000</td>\n",
       "      <td>-122.41000</td>\n",
       "      <td>37.770000</td>\n",
       "      <td>-122.430000</td>\n",
       "      <td>casual</td>\n",
       "      <td>NaN</td>\n",
       "    </tr>\n",
       "    <tr>\n",
       "      <th>4</th>\n",
       "      <td>172957A20160D568</td>\n",
       "      <td>electric_bike</td>\n",
       "      <td>2020-06-03 15:16:06</td>\n",
       "      <td>2020-06-03 16:06:10</td>\n",
       "      <td>Church St at Duboce Ave</td>\n",
       "      <td>85.0</td>\n",
       "      <td>48th Ave at Cabrillo St</td>\n",
       "      <td>521.0</td>\n",
       "      <td>37.769841</td>\n",
       "      <td>-122.42921</td>\n",
       "      <td>37.772894</td>\n",
       "      <td>-122.509079</td>\n",
       "      <td>casual</td>\n",
       "      <td>NaN</td>\n",
       "    </tr>\n",
       "  </tbody>\n",
       "</table>\n",
       "</div>"
      ],
      "text/plain": [
       "            ride_id  rideable_type           started_at             ended_at  \\\n",
       "0  08A4A9F7315901F3  electric_bike  2020-06-03 16:37:10  2020-06-03 16:48:28   \n",
       "1  844F9D906468C441  electric_bike  2020-06-03 12:22:47  2020-06-03 12:44:02   \n",
       "2  0E441BF8A86C544E  electric_bike  2020-06-02 17:37:43  2020-06-02 17:52:21   \n",
       "3  CAFE64864422F475  electric_bike  2020-06-02 18:13:01  2020-06-02 18:48:30   \n",
       "4  172957A20160D568  electric_bike  2020-06-03 15:16:06  2020-06-03 16:06:10   \n",
       "\n",
       "          start_station_name  start_station_id         end_station_name  \\\n",
       "0                        NaN               NaN                      NaN   \n",
       "1                        NaN               NaN                      NaN   \n",
       "2  Powell St at Columbus Ave             487.0                      NaN   \n",
       "3                        NaN               NaN                      NaN   \n",
       "4    Church St at Duboce Ave              85.0  48th Ave at Cabrillo St   \n",
       "\n",
       "   end_station_id  start_lat  start_lng    end_lat     end_lng member_casual  \\\n",
       "0             NaN  37.770000 -122.40000  37.760000 -122.420000        casual   \n",
       "1             NaN  37.780000 -122.49000  37.780000 -122.460000        casual   \n",
       "2             NaN  37.800426 -122.41095  37.790000 -122.440000        casual   \n",
       "3             NaN  37.760000 -122.41000  37.770000 -122.430000        casual   \n",
       "4           521.0  37.769841 -122.42921  37.772894 -122.509079        casual   \n",
       "\n",
       "  is_equity  \n",
       "0       NaN  \n",
       "1       NaN  \n",
       "2       NaN  \n",
       "3       NaN  \n",
       "4       NaN  "
      ]
     },
     "execution_count": 5,
     "metadata": {},
     "output_type": "execute_result"
    }
   ],
   "source": [
    "merged_df.head()"
   ]
  },
  {
   "cell_type": "code",
   "execution_count": 6,
   "metadata": {},
   "outputs": [],
   "source": [
    "merged_df.to_csv('master_file.csv', index=False)"
   ]
  },
  {
   "cell_type": "markdown",
   "metadata": {},
   "source": [
    "#### Test"
   ]
  },
  {
   "cell_type": "code",
   "execution_count": 7,
   "metadata": {},
   "outputs": [
    {
     "name": "stderr",
     "output_type": "stream",
     "text": [
      "/Users/karandeepbhardwaj/opt/anaconda3/envs/py3/lib/python3.7/site-packages/IPython/core/interactiveshell.py:3063: DtypeWarning: Columns (13) have mixed types.Specify dtype option on import or set low_memory=False.\n",
      "  interactivity=interactivity, compiler=compiler, result=result)\n"
     ]
    }
   ],
   "source": [
    "df = pd.read_csv('master_file.csv')"
   ]
  },
  {
   "cell_type": "code",
   "execution_count": 8,
   "metadata": {},
   "outputs": [
    {
     "data": {
      "text/plain": [
       "(380678, 14)"
      ]
     },
     "execution_count": 8,
     "metadata": {},
     "output_type": "execute_result"
    }
   ],
   "source": [
    "df.shape"
   ]
  },
  {
   "cell_type": "markdown",
   "metadata": {},
   "source": [
    "# Assess"
   ]
  },
  {
   "cell_type": "markdown",
   "metadata": {},
   "source": [
    "## Quality\n",
    "\n",
    "* start time and end time are time stamps\n",
    "* user_type and rideable_type can be set to category\n",
    "* bike id, start_station_id, end_station_id can be set to numerical\n",
    "* isequity not required\n",
    "* extract date,day of the week,month,minute,hour from the start_time"
   ]
  },
  {
   "cell_type": "code",
   "execution_count": 9,
   "metadata": {
    "scrolled": false
   },
   "outputs": [
    {
     "name": "stdout",
     "output_type": "stream",
     "text": [
      "<class 'pandas.core.frame.DataFrame'>\n",
      "RangeIndex: 380678 entries, 0 to 380677\n",
      "Data columns (total 14 columns):\n",
      " #   Column              Non-Null Count   Dtype  \n",
      "---  ------              --------------   -----  \n",
      " 0   ride_id             380678 non-null  object \n",
      " 1   rideable_type       380678 non-null  object \n",
      " 2   started_at          380678 non-null  object \n",
      " 3   ended_at            380678 non-null  object \n",
      " 4   start_station_name  239969 non-null  object \n",
      " 5   start_station_id    239969 non-null  float64\n",
      " 6   end_station_name    233788 non-null  object \n",
      " 7   end_station_id      233788 non-null  float64\n",
      " 8   start_lat           380678 non-null  float64\n",
      " 9   start_lng           380678 non-null  float64\n",
      " 10  end_lat             380036 non-null  float64\n",
      " 11  end_lng             380036 non-null  float64\n",
      " 12  member_casual       380678 non-null  object \n",
      " 13  is_equity           138251 non-null  object \n",
      "dtypes: float64(6), object(8)\n",
      "memory usage: 40.7+ MB\n"
     ]
    }
   ],
   "source": [
    "df.info()"
   ]
  },
  {
   "cell_type": "code",
   "execution_count": 10,
   "metadata": {},
   "outputs": [
    {
     "data": {
      "text/plain": [
       "casual    226098\n",
       "member    154580\n",
       "Name: member_casual, dtype: int64"
      ]
     },
     "execution_count": 10,
     "metadata": {},
     "output_type": "execute_result"
    }
   ],
   "source": [
    "df['member_casual'].value_counts()"
   ]
  },
  {
   "cell_type": "code",
   "execution_count": 11,
   "metadata": {
    "scrolled": true
   },
   "outputs": [
    {
     "data": {
      "text/plain": [
       "False    129548\n",
       "True       8703\n",
       "Name: is_equity, dtype: int64"
      ]
     },
     "execution_count": 11,
     "metadata": {},
     "output_type": "execute_result"
    }
   ],
   "source": [
    "df['is_equity'].value_counts()"
   ]
  },
  {
   "cell_type": "code",
   "execution_count": 12,
   "metadata": {
    "scrolled": true
   },
   "outputs": [
    {
     "data": {
      "text/html": [
       "<div>\n",
       "<style scoped>\n",
       "    .dataframe tbody tr th:only-of-type {\n",
       "        vertical-align: middle;\n",
       "    }\n",
       "\n",
       "    .dataframe tbody tr th {\n",
       "        vertical-align: top;\n",
       "    }\n",
       "\n",
       "    .dataframe thead th {\n",
       "        text-align: right;\n",
       "    }\n",
       "</style>\n",
       "<table border=\"1\" class=\"dataframe\">\n",
       "  <thead>\n",
       "    <tr style=\"text-align: right;\">\n",
       "      <th></th>\n",
       "      <th>start_station_id</th>\n",
       "      <th>end_station_id</th>\n",
       "      <th>start_lat</th>\n",
       "      <th>start_lng</th>\n",
       "      <th>end_lat</th>\n",
       "      <th>end_lng</th>\n",
       "    </tr>\n",
       "  </thead>\n",
       "  <tbody>\n",
       "    <tr>\n",
       "      <th>count</th>\n",
       "      <td>239969.000000</td>\n",
       "      <td>233788.000000</td>\n",
       "      <td>380678.000000</td>\n",
       "      <td>380678.000000</td>\n",
       "      <td>380036.000000</td>\n",
       "      <td>380036.000000</td>\n",
       "    </tr>\n",
       "    <tr>\n",
       "      <th>mean</th>\n",
       "      <td>225.235935</td>\n",
       "      <td>222.892082</td>\n",
       "      <td>37.722349</td>\n",
       "      <td>-122.342257</td>\n",
       "      <td>37.722295</td>\n",
       "      <td>-122.342487</td>\n",
       "    </tr>\n",
       "    <tr>\n",
       "      <th>std</th>\n",
       "      <td>169.505052</td>\n",
       "      <td>169.208394</td>\n",
       "      <td>0.151551</td>\n",
       "      <td>0.182445</td>\n",
       "      <td>0.151621</td>\n",
       "      <td>0.182584</td>\n",
       "    </tr>\n",
       "    <tr>\n",
       "      <th>min</th>\n",
       "      <td>3.000000</td>\n",
       "      <td>3.000000</td>\n",
       "      <td>37.239200</td>\n",
       "      <td>-122.514300</td>\n",
       "      <td>37.004600</td>\n",
       "      <td>-122.559000</td>\n",
       "    </tr>\n",
       "    <tr>\n",
       "      <th>25%</th>\n",
       "      <td>73.000000</td>\n",
       "      <td>74.000000</td>\n",
       "      <td>37.760000</td>\n",
       "      <td>-122.432100</td>\n",
       "      <td>37.760000</td>\n",
       "      <td>-122.431946</td>\n",
       "    </tr>\n",
       "    <tr>\n",
       "      <th>50%</th>\n",
       "      <td>172.000000</td>\n",
       "      <td>162.000000</td>\n",
       "      <td>37.773506</td>\n",
       "      <td>-122.411800</td>\n",
       "      <td>37.773500</td>\n",
       "      <td>-122.411800</td>\n",
       "    </tr>\n",
       "    <tr>\n",
       "      <th>75%</th>\n",
       "      <td>381.000000</td>\n",
       "      <td>381.000000</td>\n",
       "      <td>37.787500</td>\n",
       "      <td>-122.390200</td>\n",
       "      <td>37.787710</td>\n",
       "      <td>-122.390288</td>\n",
       "    </tr>\n",
       "    <tr>\n",
       "      <th>max</th>\n",
       "      <td>532.000000</td>\n",
       "      <td>532.000000</td>\n",
       "      <td>37.880222</td>\n",
       "      <td>-121.770000</td>\n",
       "      <td>37.962100</td>\n",
       "      <td>-121.560600</td>\n",
       "    </tr>\n",
       "  </tbody>\n",
       "</table>\n",
       "</div>"
      ],
      "text/plain": [
       "       start_station_id  end_station_id      start_lat      start_lng  \\\n",
       "count     239969.000000   233788.000000  380678.000000  380678.000000   \n",
       "mean         225.235935      222.892082      37.722349    -122.342257   \n",
       "std          169.505052      169.208394       0.151551       0.182445   \n",
       "min            3.000000        3.000000      37.239200    -122.514300   \n",
       "25%           73.000000       74.000000      37.760000    -122.432100   \n",
       "50%          172.000000      162.000000      37.773506    -122.411800   \n",
       "75%          381.000000      381.000000      37.787500    -122.390200   \n",
       "max          532.000000      532.000000      37.880222    -121.770000   \n",
       "\n",
       "             end_lat        end_lng  \n",
       "count  380036.000000  380036.000000  \n",
       "mean       37.722295    -122.342487  \n",
       "std         0.151621       0.182584  \n",
       "min        37.004600    -122.559000  \n",
       "25%        37.760000    -122.431946  \n",
       "50%        37.773500    -122.411800  \n",
       "75%        37.787710    -122.390288  \n",
       "max        37.962100    -121.560600  "
      ]
     },
     "execution_count": 12,
     "metadata": {},
     "output_type": "execute_result"
    }
   ],
   "source": [
    "df.describe()"
   ]
  },
  {
   "cell_type": "code",
   "execution_count": 13,
   "metadata": {},
   "outputs": [
    {
     "data": {
      "text/plain": [
       "(380678, 14)"
      ]
     },
     "execution_count": 13,
     "metadata": {},
     "output_type": "execute_result"
    }
   ],
   "source": [
    "df.shape"
   ]
  },
  {
   "cell_type": "markdown",
   "metadata": {},
   "source": [
    "# Clean"
   ]
  },
  {
   "cell_type": "markdown",
   "metadata": {},
   "source": [
    "### Making a copy"
   ]
  },
  {
   "cell_type": "code",
   "execution_count": 14,
   "metadata": {},
   "outputs": [],
   "source": [
    "df_clean = df.copy()"
   ]
  },
  {
   "cell_type": "markdown",
   "metadata": {},
   "source": [
    "**Define**\n",
    "\n",
    "Drop the rows with no station id"
   ]
  },
  {
   "cell_type": "markdown",
   "metadata": {},
   "source": [
    "**Code**"
   ]
  },
  {
   "cell_type": "code",
   "execution_count": 15,
   "metadata": {},
   "outputs": [],
   "source": [
    "#Remove rows that does not have station id\n",
    "df_clean = df_clean[df_clean['start_station_id'].isnull() == False]"
   ]
  },
  {
   "cell_type": "markdown",
   "metadata": {},
   "source": [
    "**Test**"
   ]
  },
  {
   "cell_type": "code",
   "execution_count": 16,
   "metadata": {},
   "outputs": [
    {
     "name": "stdout",
     "output_type": "stream",
     "text": [
      "<class 'pandas.core.frame.DataFrame'>\n",
      "Int64Index: 239969 entries, 2 to 380677\n",
      "Data columns (total 14 columns):\n",
      " #   Column              Non-Null Count   Dtype  \n",
      "---  ------              --------------   -----  \n",
      " 0   ride_id             239969 non-null  object \n",
      " 1   rideable_type       239969 non-null  object \n",
      " 2   started_at          239969 non-null  object \n",
      " 3   ended_at            239969 non-null  object \n",
      " 4   start_station_name  239969 non-null  object \n",
      " 5   start_station_id    239969 non-null  float64\n",
      " 6   end_station_name    194551 non-null  object \n",
      " 7   end_station_id      194551 non-null  float64\n",
      " 8   start_lat           239969 non-null  float64\n",
      " 9   start_lng           239969 non-null  float64\n",
      " 10  end_lat             239327 non-null  float64\n",
      " 11  end_lng             239327 non-null  float64\n",
      " 12  member_casual       239969 non-null  object \n",
      " 13  is_equity           87315 non-null   object \n",
      "dtypes: float64(6), object(8)\n",
      "memory usage: 27.5+ MB\n"
     ]
    }
   ],
   "source": [
    "df_clean.info()"
   ]
  },
  {
   "cell_type": "markdown",
   "metadata": {},
   "source": [
    "**Define**\n",
    "\n",
    "Convert datatype for start time and endtime"
   ]
  },
  {
   "cell_type": "markdown",
   "metadata": {},
   "source": [
    "**Code**"
   ]
  },
  {
   "cell_type": "code",
   "execution_count": 17,
   "metadata": {},
   "outputs": [],
   "source": [
    "df_clean['started_at'] = df_clean['started_at'].astype('datetime64[ns]')\n",
    "df_clean['ended_at'] = df_clean['ended_at'].astype('datetime64[ns]')"
   ]
  },
  {
   "cell_type": "markdown",
   "metadata": {},
   "source": [
    "**Test**"
   ]
  },
  {
   "cell_type": "code",
   "execution_count": 18,
   "metadata": {},
   "outputs": [
    {
     "name": "stdout",
     "output_type": "stream",
     "text": [
      "<class 'pandas.core.frame.DataFrame'>\n",
      "Int64Index: 239969 entries, 2 to 380677\n",
      "Data columns (total 14 columns):\n",
      " #   Column              Non-Null Count   Dtype         \n",
      "---  ------              --------------   -----         \n",
      " 0   ride_id             239969 non-null  object        \n",
      " 1   rideable_type       239969 non-null  object        \n",
      " 2   started_at          239969 non-null  datetime64[ns]\n",
      " 3   ended_at            239969 non-null  datetime64[ns]\n",
      " 4   start_station_name  239969 non-null  object        \n",
      " 5   start_station_id    239969 non-null  float64       \n",
      " 6   end_station_name    194551 non-null  object        \n",
      " 7   end_station_id      194551 non-null  float64       \n",
      " 8   start_lat           239969 non-null  float64       \n",
      " 9   start_lng           239969 non-null  float64       \n",
      " 10  end_lat             239327 non-null  float64       \n",
      " 11  end_lng             239327 non-null  float64       \n",
      " 12  member_casual       239969 non-null  object        \n",
      " 13  is_equity           87315 non-null   object        \n",
      "dtypes: datetime64[ns](2), float64(6), object(6)\n",
      "memory usage: 27.5+ MB\n"
     ]
    }
   ],
   "source": [
    "df_clean.info()"
   ]
  },
  {
   "cell_type": "markdown",
   "metadata": {},
   "source": [
    "**Define**\n",
    "\n",
    "Drop is_equity"
   ]
  },
  {
   "cell_type": "markdown",
   "metadata": {},
   "source": [
    "**Code**"
   ]
  },
  {
   "cell_type": "code",
   "execution_count": 19,
   "metadata": {},
   "outputs": [],
   "source": [
    "df_clean = df_clean.drop('is_equity', 1)"
   ]
  },
  {
   "cell_type": "markdown",
   "metadata": {},
   "source": [
    "**Test**"
   ]
  },
  {
   "cell_type": "code",
   "execution_count": 20,
   "metadata": {
    "scrolled": true
   },
   "outputs": [
    {
     "name": "stdout",
     "output_type": "stream",
     "text": [
      "<class 'pandas.core.frame.DataFrame'>\n",
      "Int64Index: 239969 entries, 2 to 380677\n",
      "Data columns (total 13 columns):\n",
      " #   Column              Non-Null Count   Dtype         \n",
      "---  ------              --------------   -----         \n",
      " 0   ride_id             239969 non-null  object        \n",
      " 1   rideable_type       239969 non-null  object        \n",
      " 2   started_at          239969 non-null  datetime64[ns]\n",
      " 3   ended_at            239969 non-null  datetime64[ns]\n",
      " 4   start_station_name  239969 non-null  object        \n",
      " 5   start_station_id    239969 non-null  float64       \n",
      " 6   end_station_name    194551 non-null  object        \n",
      " 7   end_station_id      194551 non-null  float64       \n",
      " 8   start_lat           239969 non-null  float64       \n",
      " 9   start_lng           239969 non-null  float64       \n",
      " 10  end_lat             239327 non-null  float64       \n",
      " 11  end_lng             239327 non-null  float64       \n",
      " 12  member_casual       239969 non-null  object        \n",
      "dtypes: datetime64[ns](2), float64(6), object(5)\n",
      "memory usage: 25.6+ MB\n"
     ]
    }
   ],
   "source": [
    "df_clean.info()"
   ]
  },
  {
   "cell_type": "markdown",
   "metadata": {},
   "source": [
    "**Define**\n",
    "\n",
    "Change data type and column name of member_casual"
   ]
  },
  {
   "cell_type": "markdown",
   "metadata": {},
   "source": [
    "**Code**"
   ]
  },
  {
   "cell_type": "code",
   "execution_count": 21,
   "metadata": {},
   "outputs": [],
   "source": [
    "df_clean['user_type'] = df_clean['member_casual'].astype('category')"
   ]
  },
  {
   "cell_type": "code",
   "execution_count": 22,
   "metadata": {},
   "outputs": [],
   "source": [
    "df_clean = df_clean.drop('member_casual', 1)"
   ]
  },
  {
   "cell_type": "markdown",
   "metadata": {},
   "source": [
    "**Test**"
   ]
  },
  {
   "cell_type": "code",
   "execution_count": 23,
   "metadata": {},
   "outputs": [
    {
     "name": "stdout",
     "output_type": "stream",
     "text": [
      "<class 'pandas.core.frame.DataFrame'>\n",
      "Int64Index: 239969 entries, 2 to 380677\n",
      "Data columns (total 13 columns):\n",
      " #   Column              Non-Null Count   Dtype         \n",
      "---  ------              --------------   -----         \n",
      " 0   ride_id             239969 non-null  object        \n",
      " 1   rideable_type       239969 non-null  object        \n",
      " 2   started_at          239969 non-null  datetime64[ns]\n",
      " 3   ended_at            239969 non-null  datetime64[ns]\n",
      " 4   start_station_name  239969 non-null  object        \n",
      " 5   start_station_id    239969 non-null  float64       \n",
      " 6   end_station_name    194551 non-null  object        \n",
      " 7   end_station_id      194551 non-null  float64       \n",
      " 8   start_lat           239969 non-null  float64       \n",
      " 9   start_lng           239969 non-null  float64       \n",
      " 10  end_lat             239327 non-null  float64       \n",
      " 11  end_lng             239327 non-null  float64       \n",
      " 12  user_type           239969 non-null  category      \n",
      "dtypes: category(1), datetime64[ns](2), float64(6), object(4)\n",
      "memory usage: 24.0+ MB\n"
     ]
    }
   ],
   "source": [
    "df_clean.info()"
   ]
  },
  {
   "cell_type": "code",
   "execution_count": 24,
   "metadata": {},
   "outputs": [
    {
     "data": {
      "text/plain": [
       "casual    133456\n",
       "member    106513\n",
       "Name: user_type, dtype: int64"
      ]
     },
     "execution_count": 24,
     "metadata": {},
     "output_type": "execute_result"
    }
   ],
   "source": [
    "df_clean.user_type.value_counts()"
   ]
  },
  {
   "cell_type": "markdown",
   "metadata": {},
   "source": [
    "**Define**\n",
    "\n",
    "change rideable type to catagory"
   ]
  },
  {
   "cell_type": "markdown",
   "metadata": {},
   "source": [
    "**Code**"
   ]
  },
  {
   "cell_type": "code",
   "execution_count": 25,
   "metadata": {},
   "outputs": [],
   "source": [
    "df_clean['bike_type'] = df_clean['rideable_type'].astype('category')"
   ]
  },
  {
   "cell_type": "code",
   "execution_count": 26,
   "metadata": {},
   "outputs": [],
   "source": [
    "df_clean = df_clean.drop('rideable_type', 1)"
   ]
  },
  {
   "cell_type": "markdown",
   "metadata": {},
   "source": [
    "**Test**"
   ]
  },
  {
   "cell_type": "code",
   "execution_count": 27,
   "metadata": {},
   "outputs": [
    {
     "name": "stdout",
     "output_type": "stream",
     "text": [
      "<class 'pandas.core.frame.DataFrame'>\n",
      "Int64Index: 239969 entries, 2 to 380677\n",
      "Data columns (total 13 columns):\n",
      " #   Column              Non-Null Count   Dtype         \n",
      "---  ------              --------------   -----         \n",
      " 0   ride_id             239969 non-null  object        \n",
      " 1   started_at          239969 non-null  datetime64[ns]\n",
      " 2   ended_at            239969 non-null  datetime64[ns]\n",
      " 3   start_station_name  239969 non-null  object        \n",
      " 4   start_station_id    239969 non-null  float64       \n",
      " 5   end_station_name    194551 non-null  object        \n",
      " 6   end_station_id      194551 non-null  float64       \n",
      " 7   start_lat           239969 non-null  float64       \n",
      " 8   start_lng           239969 non-null  float64       \n",
      " 9   end_lat             239327 non-null  float64       \n",
      " 10  end_lng             239327 non-null  float64       \n",
      " 11  user_type           239969 non-null  category      \n",
      " 12  bike_type           239969 non-null  category      \n",
      "dtypes: category(2), datetime64[ns](2), float64(6), object(3)\n",
      "memory usage: 22.4+ MB\n"
     ]
    }
   ],
   "source": [
    "df_clean.info()"
   ]
  },
  {
   "cell_type": "markdown",
   "metadata": {},
   "source": [
    "**Define**\n",
    "\n",
    "extract date,day of the week,month,minute,hour from the start_time"
   ]
  },
  {
   "cell_type": "markdown",
   "metadata": {},
   "source": [
    "**Code**"
   ]
  },
  {
   "cell_type": "code",
   "execution_count": 28,
   "metadata": {},
   "outputs": [],
   "source": [
    "df_clean['month'] = df_clean['started_at'].dt.month\n",
    "df_clean['day'] = df_clean['started_at'].dt.day\n",
    "df_clean['hour'] = df_clean['started_at'].dt.hour\n",
    "df_clean['week'] = df_clean['started_at'].dt.strftime('%A')\n",
    "df_clean['month'] = pd.to_datetime(df_clean['month'], format='%m').dt.month_name().str.slice(stop=3)"
   ]
  },
  {
   "cell_type": "markdown",
   "metadata": {},
   "source": [
    "**Test**"
   ]
  },
  {
   "cell_type": "code",
   "execution_count": 29,
   "metadata": {
    "scrolled": true
   },
   "outputs": [
    {
     "data": {
      "text/plain": [
       "Saturday     43665\n",
       "Sunday       39961\n",
       "Friday       35146\n",
       "Wednesday    31303\n",
       "Tuesday      31161\n",
       "Thursday     29564\n",
       "Monday       29169\n",
       "Name: week, dtype: int64"
      ]
     },
     "execution_count": 29,
     "metadata": {},
     "output_type": "execute_result"
    }
   ],
   "source": [
    "df_clean['week'].value_counts()"
   ]
  },
  {
   "cell_type": "code",
   "execution_count": 30,
   "metadata": {},
   "outputs": [
    {
     "data": {
      "text/plain": [
       "17    24588\n",
       "16    22443\n",
       "18    21705\n",
       "15    21238\n",
       "14    20256\n",
       "13    18926\n",
       "12    17344\n",
       "19    16544\n",
       "11    13924\n",
       "10    10743\n",
       "20     9315\n",
       "9      9180\n",
       "8      8060\n",
       "7      6299\n",
       "21     5124\n",
       "6      3479\n",
       "22     3390\n",
       "23     2224\n",
       "0      1313\n",
       "5      1138\n",
       "1       843\n",
       "4       707\n",
       "2       646\n",
       "3       540\n",
       "Name: hour, dtype: int64"
      ]
     },
     "execution_count": 30,
     "metadata": {},
     "output_type": "execute_result"
    }
   ],
   "source": [
    "df_clean['hour'].value_counts()"
   ]
  },
  {
   "cell_type": "code",
   "execution_count": 31,
   "metadata": {},
   "outputs": [
    {
     "data": {
      "text/plain": [
       "Jun    99220\n",
       "May    87315\n",
       "Apr    53434\n",
       "Name: month, dtype: int64"
      ]
     },
     "execution_count": 31,
     "metadata": {},
     "output_type": "execute_result"
    }
   ],
   "source": [
    "df_clean['month'].value_counts()"
   ]
  },
  {
   "cell_type": "code",
   "execution_count": 32,
   "metadata": {},
   "outputs": [
    {
     "data": {
      "text/plain": [
       "25    10571\n",
       "24     9878\n",
       "3      9697\n",
       "23     9056\n",
       "19     8946\n",
       "30     8766\n",
       "26     8561\n",
       "16     8426\n",
       "18     8236\n",
       "28     8137\n",
       "27     8082\n",
       "17     8017\n",
       "13     7930\n",
       "22     7832\n",
       "7      7829\n",
       "20     7820\n",
       "9      7774\n",
       "21     7631\n",
       "10     7597\n",
       "29     7503\n",
       "2      7470\n",
       "14     7348\n",
       "6      7305\n",
       "15     7186\n",
       "12     7068\n",
       "8      6862\n",
       "1      6843\n",
       "11     6211\n",
       "5      6190\n",
       "4      5483\n",
       "31     3714\n",
       "Name: day, dtype: int64"
      ]
     },
     "execution_count": 32,
     "metadata": {},
     "output_type": "execute_result"
    }
   ],
   "source": [
    "df_clean['day'].value_counts()"
   ]
  },
  {
   "cell_type": "code",
   "execution_count": 33,
   "metadata": {},
   "outputs": [
    {
     "data": {
      "text/html": [
       "<div>\n",
       "<style scoped>\n",
       "    .dataframe tbody tr th:only-of-type {\n",
       "        vertical-align: middle;\n",
       "    }\n",
       "\n",
       "    .dataframe tbody tr th {\n",
       "        vertical-align: top;\n",
       "    }\n",
       "\n",
       "    .dataframe thead th {\n",
       "        text-align: right;\n",
       "    }\n",
       "</style>\n",
       "<table border=\"1\" class=\"dataframe\">\n",
       "  <thead>\n",
       "    <tr style=\"text-align: right;\">\n",
       "      <th></th>\n",
       "      <th>ride_id</th>\n",
       "      <th>started_at</th>\n",
       "      <th>ended_at</th>\n",
       "      <th>start_station_name</th>\n",
       "      <th>start_station_id</th>\n",
       "      <th>end_station_name</th>\n",
       "      <th>end_station_id</th>\n",
       "      <th>start_lat</th>\n",
       "      <th>start_lng</th>\n",
       "      <th>end_lat</th>\n",
       "      <th>end_lng</th>\n",
       "      <th>user_type</th>\n",
       "      <th>bike_type</th>\n",
       "      <th>month</th>\n",
       "      <th>day</th>\n",
       "      <th>hour</th>\n",
       "      <th>week</th>\n",
       "    </tr>\n",
       "  </thead>\n",
       "  <tbody>\n",
       "    <tr>\n",
       "      <th>379013</th>\n",
       "      <td>630DABB5D0E8EF70</td>\n",
       "      <td>2020-04-20 18:24:36</td>\n",
       "      <td>2020-04-20 18:35:09</td>\n",
       "      <td>Steiner St at California St</td>\n",
       "      <td>480.0</td>\n",
       "      <td>Eureka Valley Recreation Center</td>\n",
       "      <td>118.0</td>\n",
       "      <td>37.788600</td>\n",
       "      <td>-122.435400</td>\n",
       "      <td>37.7593</td>\n",
       "      <td>-122.4369</td>\n",
       "      <td>member</td>\n",
       "      <td>electric_bike</td>\n",
       "      <td>Apr</td>\n",
       "      <td>20</td>\n",
       "      <td>18</td>\n",
       "      <td>Monday</td>\n",
       "    </tr>\n",
       "    <tr>\n",
       "      <th>283649</th>\n",
       "      <td>8E1AD5890CAE3C37</td>\n",
       "      <td>2020-05-06 18:10:28</td>\n",
       "      <td>2020-05-06 18:31:55</td>\n",
       "      <td>Duboce Park</td>\n",
       "      <td>84.0</td>\n",
       "      <td>Townsend St at 7th St</td>\n",
       "      <td>90.0</td>\n",
       "      <td>37.769200</td>\n",
       "      <td>-122.434100</td>\n",
       "      <td>37.7711</td>\n",
       "      <td>-122.4026</td>\n",
       "      <td>casual</td>\n",
       "      <td>electric_bike</td>\n",
       "      <td>May</td>\n",
       "      <td>6</td>\n",
       "      <td>18</td>\n",
       "      <td>Wednesday</td>\n",
       "    </tr>\n",
       "    <tr>\n",
       "      <th>127932</th>\n",
       "      <td>871FB78A5DC3C772</td>\n",
       "      <td>2020-06-19 14:56:10</td>\n",
       "      <td>2020-06-19 15:37:33</td>\n",
       "      <td>Folsom St at 7th St</td>\n",
       "      <td>493.0</td>\n",
       "      <td>NaN</td>\n",
       "      <td>NaN</td>\n",
       "      <td>37.776547</td>\n",
       "      <td>-122.408016</td>\n",
       "      <td>37.7700</td>\n",
       "      <td>-122.4700</td>\n",
       "      <td>member</td>\n",
       "      <td>electric_bike</td>\n",
       "      <td>Jun</td>\n",
       "      <td>19</td>\n",
       "      <td>14</td>\n",
       "      <td>Friday</td>\n",
       "    </tr>\n",
       "  </tbody>\n",
       "</table>\n",
       "</div>"
      ],
      "text/plain": [
       "                 ride_id          started_at            ended_at  \\\n",
       "379013  630DABB5D0E8EF70 2020-04-20 18:24:36 2020-04-20 18:35:09   \n",
       "283649  8E1AD5890CAE3C37 2020-05-06 18:10:28 2020-05-06 18:31:55   \n",
       "127932  871FB78A5DC3C772 2020-06-19 14:56:10 2020-06-19 15:37:33   \n",
       "\n",
       "                 start_station_name  start_station_id  \\\n",
       "379013  Steiner St at California St             480.0   \n",
       "283649                  Duboce Park              84.0   \n",
       "127932          Folsom St at 7th St             493.0   \n",
       "\n",
       "                       end_station_name  end_station_id  start_lat  \\\n",
       "379013  Eureka Valley Recreation Center           118.0  37.788600   \n",
       "283649            Townsend St at 7th St            90.0  37.769200   \n",
       "127932                              NaN             NaN  37.776547   \n",
       "\n",
       "         start_lng  end_lat   end_lng user_type      bike_type month  day  \\\n",
       "379013 -122.435400  37.7593 -122.4369    member  electric_bike   Apr   20   \n",
       "283649 -122.434100  37.7711 -122.4026    casual  electric_bike   May    6   \n",
       "127932 -122.408016  37.7700 -122.4700    member  electric_bike   Jun   19   \n",
       "\n",
       "        hour       week  \n",
       "379013    18     Monday  \n",
       "283649    18  Wednesday  \n",
       "127932    14     Friday  "
      ]
     },
     "execution_count": 33,
     "metadata": {},
     "output_type": "execute_result"
    }
   ],
   "source": [
    "df_clean.sample(3)"
   ]
  },
  {
   "cell_type": "markdown",
   "metadata": {},
   "source": [
    "**Define**\n",
    "\n",
    "Extract duration of trip from start time and end time"
   ]
  },
  {
   "cell_type": "markdown",
   "metadata": {},
   "source": [
    "**Code**"
   ]
  },
  {
   "cell_type": "code",
   "execution_count": 34,
   "metadata": {
    "scrolled": true
   },
   "outputs": [
    {
     "data": {
      "text/plain": [
       "2        00:14:38\n",
       "4        00:50:04\n",
       "8        00:22:57\n",
       "10       00:16:30\n",
       "14       00:27:42\n",
       "           ...   \n",
       "380670   00:08:35\n",
       "380671   00:13:00\n",
       "380672   00:11:56\n",
       "380673   00:12:49\n",
       "380677   00:10:43\n",
       "Name: duration, Length: 239969, dtype: timedelta64[ns]"
      ]
     },
     "execution_count": 34,
     "metadata": {},
     "output_type": "execute_result"
    }
   ],
   "source": [
    "df_clean['duration'] = df_clean['ended_at'] - df_clean['started_at']\n",
    "df_clean['duration']"
   ]
  },
  {
   "cell_type": "markdown",
   "metadata": {},
   "source": [
    "**Test**"
   ]
  },
  {
   "cell_type": "code",
   "execution_count": 35,
   "metadata": {
    "scrolled": true
   },
   "outputs": [
    {
     "data": {
      "text/plain": [
       "239969"
      ]
     },
     "execution_count": 35,
     "metadata": {},
     "output_type": "execute_result"
    }
   ],
   "source": [
    "df_clean['duration'].shape[0]"
   ]
  },
  {
   "cell_type": "code",
   "execution_count": 36,
   "metadata": {},
   "outputs": [],
   "source": [
    "df_clean = df_clean[df_clean['duration'].notna()]"
   ]
  },
  {
   "cell_type": "code",
   "execution_count": 37,
   "metadata": {},
   "outputs": [],
   "source": [
    "df_clean['duration']= df_clean['duration']/np.timedelta64(1,'m')"
   ]
  },
  {
   "cell_type": "code",
   "execution_count": 38,
   "metadata": {},
   "outputs": [
    {
     "data": {
      "text/html": [
       "<div>\n",
       "<style scoped>\n",
       "    .dataframe tbody tr th:only-of-type {\n",
       "        vertical-align: middle;\n",
       "    }\n",
       "\n",
       "    .dataframe tbody tr th {\n",
       "        vertical-align: top;\n",
       "    }\n",
       "\n",
       "    .dataframe thead th {\n",
       "        text-align: right;\n",
       "    }\n",
       "</style>\n",
       "<table border=\"1\" class=\"dataframe\">\n",
       "  <thead>\n",
       "    <tr style=\"text-align: right;\">\n",
       "      <th></th>\n",
       "      <th>ride_id</th>\n",
       "      <th>started_at</th>\n",
       "      <th>ended_at</th>\n",
       "      <th>start_station_name</th>\n",
       "      <th>start_station_id</th>\n",
       "      <th>end_station_name</th>\n",
       "      <th>end_station_id</th>\n",
       "      <th>start_lat</th>\n",
       "      <th>start_lng</th>\n",
       "      <th>end_lat</th>\n",
       "      <th>end_lng</th>\n",
       "      <th>user_type</th>\n",
       "      <th>bike_type</th>\n",
       "      <th>month</th>\n",
       "      <th>day</th>\n",
       "      <th>hour</th>\n",
       "      <th>week</th>\n",
       "      <th>duration</th>\n",
       "    </tr>\n",
       "  </thead>\n",
       "  <tbody>\n",
       "    <tr>\n",
       "      <th>2</th>\n",
       "      <td>0E441BF8A86C544E</td>\n",
       "      <td>2020-06-02 17:37:43</td>\n",
       "      <td>2020-06-02 17:52:21</td>\n",
       "      <td>Powell St at Columbus Ave</td>\n",
       "      <td>487.0</td>\n",
       "      <td>NaN</td>\n",
       "      <td>NaN</td>\n",
       "      <td>37.800426</td>\n",
       "      <td>-122.410950</td>\n",
       "      <td>37.790000</td>\n",
       "      <td>-122.440000</td>\n",
       "      <td>casual</td>\n",
       "      <td>electric_bike</td>\n",
       "      <td>Jun</td>\n",
       "      <td>2</td>\n",
       "      <td>17</td>\n",
       "      <td>Tuesday</td>\n",
       "      <td>14.633333</td>\n",
       "    </tr>\n",
       "    <tr>\n",
       "      <th>4</th>\n",
       "      <td>172957A20160D568</td>\n",
       "      <td>2020-06-03 15:16:06</td>\n",
       "      <td>2020-06-03 16:06:10</td>\n",
       "      <td>Church St at Duboce Ave</td>\n",
       "      <td>85.0</td>\n",
       "      <td>48th Ave at Cabrillo St</td>\n",
       "      <td>521.0</td>\n",
       "      <td>37.769841</td>\n",
       "      <td>-122.429210</td>\n",
       "      <td>37.772894</td>\n",
       "      <td>-122.509079</td>\n",
       "      <td>casual</td>\n",
       "      <td>electric_bike</td>\n",
       "      <td>Jun</td>\n",
       "      <td>3</td>\n",
       "      <td>15</td>\n",
       "      <td>Wednesday</td>\n",
       "      <td>50.066667</td>\n",
       "    </tr>\n",
       "    <tr>\n",
       "      <th>8</th>\n",
       "      <td>AC29BDD9051D1827</td>\n",
       "      <td>2020-06-03 12:13:30</td>\n",
       "      <td>2020-06-03 12:36:27</td>\n",
       "      <td>Cesar Chavez St at Dolores St</td>\n",
       "      <td>140.0</td>\n",
       "      <td>4th St at 16th St</td>\n",
       "      <td>104.0</td>\n",
       "      <td>37.747758</td>\n",
       "      <td>-122.425121</td>\n",
       "      <td>37.767008</td>\n",
       "      <td>-122.390851</td>\n",
       "      <td>casual</td>\n",
       "      <td>electric_bike</td>\n",
       "      <td>Jun</td>\n",
       "      <td>3</td>\n",
       "      <td>12</td>\n",
       "      <td>Wednesday</td>\n",
       "      <td>22.950000</td>\n",
       "    </tr>\n",
       "    <tr>\n",
       "      <th>10</th>\n",
       "      <td>BE55928B0B2837A6</td>\n",
       "      <td>2020-06-03 14:50:30</td>\n",
       "      <td>2020-06-03 15:07:00</td>\n",
       "      <td>Yerba Buena Center for the Arts (Howard St at ...</td>\n",
       "      <td>284.0</td>\n",
       "      <td>NaN</td>\n",
       "      <td>NaN</td>\n",
       "      <td>37.784577</td>\n",
       "      <td>-122.400985</td>\n",
       "      <td>37.760000</td>\n",
       "      <td>-122.420000</td>\n",
       "      <td>casual</td>\n",
       "      <td>electric_bike</td>\n",
       "      <td>Jun</td>\n",
       "      <td>3</td>\n",
       "      <td>14</td>\n",
       "      <td>Wednesday</td>\n",
       "      <td>16.500000</td>\n",
       "    </tr>\n",
       "    <tr>\n",
       "      <th>14</th>\n",
       "      <td>7E0C4C5917A9EEC2</td>\n",
       "      <td>2020-06-02 19:18:23</td>\n",
       "      <td>2020-06-02 19:46:05</td>\n",
       "      <td>The Embarcadero at Vallejo St</td>\n",
       "      <td>8.0</td>\n",
       "      <td>Hyde St at Post St</td>\n",
       "      <td>369.0</td>\n",
       "      <td>37.799943</td>\n",
       "      <td>-122.398562</td>\n",
       "      <td>37.787527</td>\n",
       "      <td>-122.416830</td>\n",
       "      <td>casual</td>\n",
       "      <td>electric_bike</td>\n",
       "      <td>Jun</td>\n",
       "      <td>2</td>\n",
       "      <td>19</td>\n",
       "      <td>Tuesday</td>\n",
       "      <td>27.700000</td>\n",
       "    </tr>\n",
       "  </tbody>\n",
       "</table>\n",
       "</div>"
      ],
      "text/plain": [
       "             ride_id          started_at            ended_at  \\\n",
       "2   0E441BF8A86C544E 2020-06-02 17:37:43 2020-06-02 17:52:21   \n",
       "4   172957A20160D568 2020-06-03 15:16:06 2020-06-03 16:06:10   \n",
       "8   AC29BDD9051D1827 2020-06-03 12:13:30 2020-06-03 12:36:27   \n",
       "10  BE55928B0B2837A6 2020-06-03 14:50:30 2020-06-03 15:07:00   \n",
       "14  7E0C4C5917A9EEC2 2020-06-02 19:18:23 2020-06-02 19:46:05   \n",
       "\n",
       "                                   start_station_name  start_station_id  \\\n",
       "2                           Powell St at Columbus Ave             487.0   \n",
       "4                             Church St at Duboce Ave              85.0   \n",
       "8                       Cesar Chavez St at Dolores St             140.0   \n",
       "10  Yerba Buena Center for the Arts (Howard St at ...             284.0   \n",
       "14                      The Embarcadero at Vallejo St               8.0   \n",
       "\n",
       "           end_station_name  end_station_id  start_lat   start_lng    end_lat  \\\n",
       "2                       NaN             NaN  37.800426 -122.410950  37.790000   \n",
       "4   48th Ave at Cabrillo St           521.0  37.769841 -122.429210  37.772894   \n",
       "8         4th St at 16th St           104.0  37.747758 -122.425121  37.767008   \n",
       "10                      NaN             NaN  37.784577 -122.400985  37.760000   \n",
       "14       Hyde St at Post St           369.0  37.799943 -122.398562  37.787527   \n",
       "\n",
       "       end_lng user_type      bike_type month  day  hour       week   duration  \n",
       "2  -122.440000    casual  electric_bike   Jun    2    17    Tuesday  14.633333  \n",
       "4  -122.509079    casual  electric_bike   Jun    3    15  Wednesday  50.066667  \n",
       "8  -122.390851    casual  electric_bike   Jun    3    12  Wednesday  22.950000  \n",
       "10 -122.420000    casual  electric_bike   Jun    3    14  Wednesday  16.500000  \n",
       "14 -122.416830    casual  electric_bike   Jun    2    19    Tuesday  27.700000  "
      ]
     },
     "execution_count": 38,
     "metadata": {},
     "output_type": "execute_result"
    }
   ],
   "source": [
    "df_clean.head()"
   ]
  },
  {
   "cell_type": "markdown",
   "metadata": {},
   "source": [
    "**Define**\n",
    "\n",
    "Convert longitude lattitude into kms\n",
    "\n",
    "* Calculations are derived from the 'haversine' formula which is used to calculate the great-circle distance between tow points, i.e. the shortest distance over the earth's surface. Thank you Google for providing a way to figure this out! Reference is listed in the sources at the end of this document."
   ]
  },
  {
   "cell_type": "markdown",
   "metadata": {},
   "source": [
    "**Code**"
   ]
  },
  {
   "cell_type": "code",
   "execution_count": 39,
   "metadata": {},
   "outputs": [],
   "source": [
    "import math\n",
    "from math import radians, sin, cos, acos\n",
    "\n",
    "def distance(origin, destination):\n",
    "\n",
    "    lat1, long1 = origin\n",
    "    lat2, long2 = destination\n",
    "    radius = 6371\n",
    "    # this is in kilometers - will convert to US units of miles after\n",
    "\n",
    "    dlat = math.radians(lat2 - lat1)\n",
    "    dlong = math.radians(long2 - long1)\n",
    "    \n",
    "    a = (math.sin(dlat / 2) * math.sin(dlat / 2) + math.cos(math.radians(lat1)) * math.cos(math.radians(lat2)) * math.sin(dlong / 2) * math.sin(dlong / 2))\n",
    "    c = 2 * math.atan2(math.sqrt(a), math.sqrt(1 - a))\n",
    "    d = radius * c\n",
    "\n",
    "    return d"
   ]
  },
  {
   "cell_type": "code",
   "execution_count": 40,
   "metadata": {},
   "outputs": [],
   "source": [
    "df_clean['distance'] = df_clean.apply(lambda x: distance((x['start_lat'], x['start_lng']), (x['end_lat'], x['end_lng'])), axis=1)"
   ]
  },
  {
   "cell_type": "markdown",
   "metadata": {},
   "source": [
    "**Test**"
   ]
  },
  {
   "cell_type": "code",
   "execution_count": 41,
   "metadata": {
    "scrolled": true
   },
   "outputs": [
    {
     "data": {
      "text/html": [
       "<div>\n",
       "<style scoped>\n",
       "    .dataframe tbody tr th:only-of-type {\n",
       "        vertical-align: middle;\n",
       "    }\n",
       "\n",
       "    .dataframe tbody tr th {\n",
       "        vertical-align: top;\n",
       "    }\n",
       "\n",
       "    .dataframe thead th {\n",
       "        text-align: right;\n",
       "    }\n",
       "</style>\n",
       "<table border=\"1\" class=\"dataframe\">\n",
       "  <thead>\n",
       "    <tr style=\"text-align: right;\">\n",
       "      <th></th>\n",
       "      <th>ride_id</th>\n",
       "      <th>started_at</th>\n",
       "      <th>ended_at</th>\n",
       "      <th>start_station_name</th>\n",
       "      <th>start_station_id</th>\n",
       "      <th>end_station_name</th>\n",
       "      <th>end_station_id</th>\n",
       "      <th>start_lat</th>\n",
       "      <th>start_lng</th>\n",
       "      <th>end_lat</th>\n",
       "      <th>end_lng</th>\n",
       "      <th>user_type</th>\n",
       "      <th>bike_type</th>\n",
       "      <th>month</th>\n",
       "      <th>day</th>\n",
       "      <th>hour</th>\n",
       "      <th>week</th>\n",
       "      <th>duration</th>\n",
       "      <th>distance</th>\n",
       "    </tr>\n",
       "  </thead>\n",
       "  <tbody>\n",
       "    <tr>\n",
       "      <th>189117</th>\n",
       "      <td>7D4D3888C6C7DC07</td>\n",
       "      <td>2020-05-24 13:30:15</td>\n",
       "      <td>2020-05-24 13:36:25</td>\n",
       "      <td>14th Ave at Geary Blvd</td>\n",
       "      <td>474.0</td>\n",
       "      <td>23rd Ave at Clement St</td>\n",
       "      <td>520.0</td>\n",
       "      <td>37.780500</td>\n",
       "      <td>-122.47280</td>\n",
       "      <td>37.782000</td>\n",
       "      <td>-122.48280</td>\n",
       "      <td>member</td>\n",
       "      <td>docked_bike</td>\n",
       "      <td>May</td>\n",
       "      <td>24</td>\n",
       "      <td>13</td>\n",
       "      <td>Sunday</td>\n",
       "      <td>6.166667</td>\n",
       "      <td>0.894523</td>\n",
       "    </tr>\n",
       "    <tr>\n",
       "      <th>83598</th>\n",
       "      <td>57CF5D6B1FD57CDE</td>\n",
       "      <td>2020-06-11 20:27:22</td>\n",
       "      <td>2020-06-11 20:50:09</td>\n",
       "      <td>San Fernando St at 4th St</td>\n",
       "      <td>310.0</td>\n",
       "      <td>San Fernando St at 4th St</td>\n",
       "      <td>310.0</td>\n",
       "      <td>37.335885</td>\n",
       "      <td>-121.88566</td>\n",
       "      <td>37.335885</td>\n",
       "      <td>-121.88566</td>\n",
       "      <td>casual</td>\n",
       "      <td>docked_bike</td>\n",
       "      <td>Jun</td>\n",
       "      <td>11</td>\n",
       "      <td>20</td>\n",
       "      <td>Thursday</td>\n",
       "      <td>22.783333</td>\n",
       "      <td>0.000000</td>\n",
       "    </tr>\n",
       "    <tr>\n",
       "      <th>356382</th>\n",
       "      <td>EFD21DBBBDCC5F91</td>\n",
       "      <td>2020-04-17 15:04:40</td>\n",
       "      <td>2020-04-17 15:30:23</td>\n",
       "      <td>St. Joseph's Ave at Geary Blvd</td>\n",
       "      <td>508.0</td>\n",
       "      <td>Washington St at Kearny St</td>\n",
       "      <td>10.0</td>\n",
       "      <td>37.782500</td>\n",
       "      <td>-122.44250</td>\n",
       "      <td>37.795400</td>\n",
       "      <td>-122.40480</td>\n",
       "      <td>member</td>\n",
       "      <td>docked_bike</td>\n",
       "      <td>Apr</td>\n",
       "      <td>17</td>\n",
       "      <td>15</td>\n",
       "      <td>Friday</td>\n",
       "      <td>25.716667</td>\n",
       "      <td>3.610071</td>\n",
       "    </tr>\n",
       "  </tbody>\n",
       "</table>\n",
       "</div>"
      ],
      "text/plain": [
       "                 ride_id          started_at            ended_at  \\\n",
       "189117  7D4D3888C6C7DC07 2020-05-24 13:30:15 2020-05-24 13:36:25   \n",
       "83598   57CF5D6B1FD57CDE 2020-06-11 20:27:22 2020-06-11 20:50:09   \n",
       "356382  EFD21DBBBDCC5F91 2020-04-17 15:04:40 2020-04-17 15:30:23   \n",
       "\n",
       "                    start_station_name  start_station_id  \\\n",
       "189117          14th Ave at Geary Blvd             474.0   \n",
       "83598        San Fernando St at 4th St             310.0   \n",
       "356382  St. Joseph's Ave at Geary Blvd             508.0   \n",
       "\n",
       "                  end_station_name  end_station_id  start_lat  start_lng  \\\n",
       "189117      23rd Ave at Clement St           520.0  37.780500 -122.47280   \n",
       "83598    San Fernando St at 4th St           310.0  37.335885 -121.88566   \n",
       "356382  Washington St at Kearny St            10.0  37.782500 -122.44250   \n",
       "\n",
       "          end_lat    end_lng user_type    bike_type month  day  hour  \\\n",
       "189117  37.782000 -122.48280    member  docked_bike   May   24    13   \n",
       "83598   37.335885 -121.88566    casual  docked_bike   Jun   11    20   \n",
       "356382  37.795400 -122.40480    member  docked_bike   Apr   17    15   \n",
       "\n",
       "            week   duration  distance  \n",
       "189117    Sunday   6.166667  0.894523  \n",
       "83598   Thursday  22.783333  0.000000  \n",
       "356382    Friday  25.716667  3.610071  "
      ]
     },
     "execution_count": 41,
     "metadata": {},
     "output_type": "execute_result"
    }
   ],
   "source": [
    "df_clean.sample(3)"
   ]
  },
  {
   "cell_type": "code",
   "execution_count": 42,
   "metadata": {},
   "outputs": [
    {
     "data": {
      "text/html": [
       "<div>\n",
       "<style scoped>\n",
       "    .dataframe tbody tr th:only-of-type {\n",
       "        vertical-align: middle;\n",
       "    }\n",
       "\n",
       "    .dataframe tbody tr th {\n",
       "        vertical-align: top;\n",
       "    }\n",
       "\n",
       "    .dataframe thead th {\n",
       "        text-align: right;\n",
       "    }\n",
       "</style>\n",
       "<table border=\"1\" class=\"dataframe\">\n",
       "  <thead>\n",
       "    <tr style=\"text-align: right;\">\n",
       "      <th></th>\n",
       "      <th>ride_id</th>\n",
       "      <th>started_at</th>\n",
       "      <th>ended_at</th>\n",
       "      <th>start_station_name</th>\n",
       "      <th>start_station_id</th>\n",
       "      <th>end_station_name</th>\n",
       "      <th>end_station_id</th>\n",
       "      <th>user_type</th>\n",
       "      <th>bike_type</th>\n",
       "      <th>month</th>\n",
       "      <th>day</th>\n",
       "      <th>hour</th>\n",
       "      <th>week</th>\n",
       "      <th>duration</th>\n",
       "      <th>distance</th>\n",
       "    </tr>\n",
       "  </thead>\n",
       "  <tbody>\n",
       "    <tr>\n",
       "      <th>194537</th>\n",
       "      <td>6B562452EEDA62E2</td>\n",
       "      <td>2020-05-31 11:51:50</td>\n",
       "      <td>2020-05-31 11:58:48</td>\n",
       "      <td>Dolores St at 15th St</td>\n",
       "      <td>96.0</td>\n",
       "      <td>Valencia St at 21st St</td>\n",
       "      <td>127.0</td>\n",
       "      <td>casual</td>\n",
       "      <td>docked_bike</td>\n",
       "      <td>May</td>\n",
       "      <td>31</td>\n",
       "      <td>11</td>\n",
       "      <td>Sunday</td>\n",
       "      <td>6.966667</td>\n",
       "      <td>1.165426</td>\n",
       "    </tr>\n",
       "    <tr>\n",
       "      <th>177807</th>\n",
       "      <td>01163A91C851466F</td>\n",
       "      <td>2020-05-16 13:26:59</td>\n",
       "      <td>2020-05-16 14:00:36</td>\n",
       "      <td>Parker St at Fulton St</td>\n",
       "      <td>266.0</td>\n",
       "      <td>Parker St at Fulton St</td>\n",
       "      <td>266.0</td>\n",
       "      <td>member</td>\n",
       "      <td>docked_bike</td>\n",
       "      <td>May</td>\n",
       "      <td>16</td>\n",
       "      <td>13</td>\n",
       "      <td>Saturday</td>\n",
       "      <td>33.616667</td>\n",
       "      <td>0.000000</td>\n",
       "    </tr>\n",
       "    <tr>\n",
       "      <th>93418</th>\n",
       "      <td>6A3690E54C9B56F8</td>\n",
       "      <td>2020-06-06 12:20:09</td>\n",
       "      <td>2020-06-06 12:46:59</td>\n",
       "      <td>Lane St at Revere Ave</td>\n",
       "      <td>362.0</td>\n",
       "      <td>Garfield Square (25th St at Harrison St)</td>\n",
       "      <td>139.0</td>\n",
       "      <td>casual</td>\n",
       "      <td>docked_bike</td>\n",
       "      <td>Jun</td>\n",
       "      <td>6</td>\n",
       "      <td>12</td>\n",
       "      <td>Saturday</td>\n",
       "      <td>26.833333</td>\n",
       "      <td>2.879463</td>\n",
       "    </tr>\n",
       "  </tbody>\n",
       "</table>\n",
       "</div>"
      ],
      "text/plain": [
       "                 ride_id          started_at            ended_at  \\\n",
       "194537  6B562452EEDA62E2 2020-05-31 11:51:50 2020-05-31 11:58:48   \n",
       "177807  01163A91C851466F 2020-05-16 13:26:59 2020-05-16 14:00:36   \n",
       "93418   6A3690E54C9B56F8 2020-06-06 12:20:09 2020-06-06 12:46:59   \n",
       "\n",
       "            start_station_name  start_station_id  \\\n",
       "194537   Dolores St at 15th St              96.0   \n",
       "177807  Parker St at Fulton St             266.0   \n",
       "93418    Lane St at Revere Ave             362.0   \n",
       "\n",
       "                                end_station_name  end_station_id user_type  \\\n",
       "194537                    Valencia St at 21st St           127.0    casual   \n",
       "177807                    Parker St at Fulton St           266.0    member   \n",
       "93418   Garfield Square (25th St at Harrison St)           139.0    casual   \n",
       "\n",
       "          bike_type month  day  hour      week   duration  distance  \n",
       "194537  docked_bike   May   31    11    Sunday   6.966667  1.165426  \n",
       "177807  docked_bike   May   16    13  Saturday  33.616667  0.000000  \n",
       "93418   docked_bike   Jun    6    12  Saturday  26.833333  2.879463  "
      ]
     },
     "execution_count": 42,
     "metadata": {},
     "output_type": "execute_result"
    }
   ],
   "source": [
    "df_clean = df_clean.drop('start_lat', 1)\n",
    "df_clean = df_clean.drop('start_lng', 1)\n",
    "df_clean = df_clean.drop('end_lat', 1)\n",
    "df_clean = df_clean.drop('end_lng', 1)\n",
    "df_clean.sample(3)"
   ]
  },
  {
   "cell_type": "code",
   "execution_count": 43,
   "metadata": {
    "scrolled": true
   },
   "outputs": [
    {
     "data": {
      "text/plain": [
       "ride_id                   0\n",
       "started_at                0\n",
       "ended_at                  0\n",
       "start_station_name        0\n",
       "start_station_id          0\n",
       "end_station_name      45418\n",
       "end_station_id        45418\n",
       "user_type                 0\n",
       "bike_type                 0\n",
       "month                     0\n",
       "day                       0\n",
       "hour                      0\n",
       "week                      0\n",
       "duration                  0\n",
       "distance                642\n",
       "dtype: int64"
      ]
     },
     "execution_count": 43,
     "metadata": {},
     "output_type": "execute_result"
    }
   ],
   "source": [
    "df_clean.isna().sum()"
   ]
  },
  {
   "cell_type": "code",
   "execution_count": 44,
   "metadata": {},
   "outputs": [
    {
     "name": "stdout",
     "output_type": "stream",
     "text": [
      "<class 'pandas.core.frame.DataFrame'>\n",
      "Int64Index: 239969 entries, 2 to 380677\n",
      "Data columns (total 15 columns):\n",
      " #   Column              Non-Null Count   Dtype         \n",
      "---  ------              --------------   -----         \n",
      " 0   ride_id             239969 non-null  object        \n",
      " 1   started_at          239969 non-null  datetime64[ns]\n",
      " 2   ended_at            239969 non-null  datetime64[ns]\n",
      " 3   start_station_name  239969 non-null  object        \n",
      " 4   start_station_id    239969 non-null  float64       \n",
      " 5   end_station_name    194551 non-null  object        \n",
      " 6   end_station_id      194551 non-null  float64       \n",
      " 7   user_type           239969 non-null  category      \n",
      " 8   bike_type           239969 non-null  category      \n",
      " 9   month               239969 non-null  object        \n",
      " 10  day                 239969 non-null  int64         \n",
      " 11  hour                239969 non-null  int64         \n",
      " 12  week                239969 non-null  object        \n",
      " 13  duration            239969 non-null  float64       \n",
      " 14  distance            239327 non-null  float64       \n",
      "dtypes: category(2), datetime64[ns](2), float64(4), int64(2), object(5)\n",
      "memory usage: 26.1+ MB\n"
     ]
    }
   ],
   "source": [
    "df_clean.info()"
   ]
  },
  {
   "cell_type": "markdown",
   "metadata": {},
   "source": [
    "#### What is the structure of your dataset?\n",
    "\n",
    "ride_id      \n",
    "started_at\n",
    "ended_at\n",
    "start_station_name       \n",
    "start_station_id     \n",
    "end_station_name      \n",
    "end_station_id      \n",
    "user_type     \n",
    "bike_type     \n",
    "month       \n",
    "day      \n",
    "hour       \n",
    "week       \n",
    "duration     \n",
    "distance   \n",
    "\n",
    "### Added variables:\n",
    "\n",
    "* duration: start/end time, how long the trip took in seconds\n",
    "* Distance in kms\n",
    "* Day, month, hour of ride\n",
    "\n",
    "\n",
    "#### What is/are the main feature(s) of interest in your dataset?\n",
    "\n",
    "The main features od dataset is when and where bikes are high in demand (during the day/weekday/month). \n",
    "\n",
    "#### What features in the dataset do you think will help support your investigation into your feature(s) of interest?\n",
    "\n",
    "`Features:`\n",
    "\n",
    "user_type     \n",
    "bike_type     \n",
    "month       \n",
    "day      \n",
    "hour       \n",
    "week       \n",
    "duration     \n",
    "distance   \n",
    "\n",
    "Will help me support the investigation."
   ]
  },
  {
   "cell_type": "markdown",
   "metadata": {},
   "source": [
    "**Convert to csv**"
   ]
  },
  {
   "cell_type": "code",
   "execution_count": 45,
   "metadata": {},
   "outputs": [],
   "source": [
    "df_clean.to_csv('final_data.csv',index=None)"
   ]
  },
  {
   "cell_type": "code",
   "execution_count": 46,
   "metadata": {},
   "outputs": [
    {
     "data": {
      "text/html": [
       "<div>\n",
       "<style scoped>\n",
       "    .dataframe tbody tr th:only-of-type {\n",
       "        vertical-align: middle;\n",
       "    }\n",
       "\n",
       "    .dataframe tbody tr th {\n",
       "        vertical-align: top;\n",
       "    }\n",
       "\n",
       "    .dataframe thead th {\n",
       "        text-align: right;\n",
       "    }\n",
       "</style>\n",
       "<table border=\"1\" class=\"dataframe\">\n",
       "  <thead>\n",
       "    <tr style=\"text-align: right;\">\n",
       "      <th></th>\n",
       "      <th>ride_id</th>\n",
       "      <th>started_at</th>\n",
       "      <th>ended_at</th>\n",
       "      <th>start_station_name</th>\n",
       "      <th>start_station_id</th>\n",
       "      <th>end_station_name</th>\n",
       "      <th>end_station_id</th>\n",
       "      <th>user_type</th>\n",
       "      <th>bike_type</th>\n",
       "      <th>month</th>\n",
       "      <th>day</th>\n",
       "      <th>hour</th>\n",
       "      <th>week</th>\n",
       "      <th>duration</th>\n",
       "      <th>distance</th>\n",
       "    </tr>\n",
       "  </thead>\n",
       "  <tbody>\n",
       "    <tr>\n",
       "      <th>0</th>\n",
       "      <td>0E441BF8A86C544E</td>\n",
       "      <td>2020-06-02 17:37:43</td>\n",
       "      <td>2020-06-02 17:52:21</td>\n",
       "      <td>Powell St at Columbus Ave</td>\n",
       "      <td>487.0</td>\n",
       "      <td>NaN</td>\n",
       "      <td>NaN</td>\n",
       "      <td>casual</td>\n",
       "      <td>electric_bike</td>\n",
       "      <td>Jun</td>\n",
       "      <td>2</td>\n",
       "      <td>17</td>\n",
       "      <td>Tuesday</td>\n",
       "      <td>14.633333</td>\n",
       "      <td>2.803461</td>\n",
       "    </tr>\n",
       "    <tr>\n",
       "      <th>1</th>\n",
       "      <td>172957A20160D568</td>\n",
       "      <td>2020-06-03 15:16:06</td>\n",
       "      <td>2020-06-03 16:06:10</td>\n",
       "      <td>Church St at Duboce Ave</td>\n",
       "      <td>85.0</td>\n",
       "      <td>48th Ave at Cabrillo St</td>\n",
       "      <td>521.0</td>\n",
       "      <td>casual</td>\n",
       "      <td>electric_bike</td>\n",
       "      <td>Jun</td>\n",
       "      <td>3</td>\n",
       "      <td>15</td>\n",
       "      <td>Wednesday</td>\n",
       "      <td>50.066667</td>\n",
       "      <td>7.028324</td>\n",
       "    </tr>\n",
       "    <tr>\n",
       "      <th>2</th>\n",
       "      <td>AC29BDD9051D1827</td>\n",
       "      <td>2020-06-03 12:13:30</td>\n",
       "      <td>2020-06-03 12:36:27</td>\n",
       "      <td>Cesar Chavez St at Dolores St</td>\n",
       "      <td>140.0</td>\n",
       "      <td>4th St at 16th St</td>\n",
       "      <td>104.0</td>\n",
       "      <td>casual</td>\n",
       "      <td>electric_bike</td>\n",
       "      <td>Jun</td>\n",
       "      <td>3</td>\n",
       "      <td>12</td>\n",
       "      <td>Wednesday</td>\n",
       "      <td>22.950000</td>\n",
       "      <td>3.695719</td>\n",
       "    </tr>\n",
       "    <tr>\n",
       "      <th>3</th>\n",
       "      <td>BE55928B0B2837A6</td>\n",
       "      <td>2020-06-03 14:50:30</td>\n",
       "      <td>2020-06-03 15:07:00</td>\n",
       "      <td>Yerba Buena Center for the Arts (Howard St at ...</td>\n",
       "      <td>284.0</td>\n",
       "      <td>NaN</td>\n",
       "      <td>NaN</td>\n",
       "      <td>casual</td>\n",
       "      <td>electric_bike</td>\n",
       "      <td>Jun</td>\n",
       "      <td>3</td>\n",
       "      <td>14</td>\n",
       "      <td>Wednesday</td>\n",
       "      <td>16.500000</td>\n",
       "      <td>3.203368</td>\n",
       "    </tr>\n",
       "    <tr>\n",
       "      <th>4</th>\n",
       "      <td>7E0C4C5917A9EEC2</td>\n",
       "      <td>2020-06-02 19:18:23</td>\n",
       "      <td>2020-06-02 19:46:05</td>\n",
       "      <td>The Embarcadero at Vallejo St</td>\n",
       "      <td>8.0</td>\n",
       "      <td>Hyde St at Post St</td>\n",
       "      <td>369.0</td>\n",
       "      <td>casual</td>\n",
       "      <td>electric_bike</td>\n",
       "      <td>Jun</td>\n",
       "      <td>2</td>\n",
       "      <td>19</td>\n",
       "      <td>Tuesday</td>\n",
       "      <td>27.700000</td>\n",
       "      <td>2.117242</td>\n",
       "    </tr>\n",
       "  </tbody>\n",
       "</table>\n",
       "</div>"
      ],
      "text/plain": [
       "            ride_id           started_at             ended_at  \\\n",
       "0  0E441BF8A86C544E  2020-06-02 17:37:43  2020-06-02 17:52:21   \n",
       "1  172957A20160D568  2020-06-03 15:16:06  2020-06-03 16:06:10   \n",
       "2  AC29BDD9051D1827  2020-06-03 12:13:30  2020-06-03 12:36:27   \n",
       "3  BE55928B0B2837A6  2020-06-03 14:50:30  2020-06-03 15:07:00   \n",
       "4  7E0C4C5917A9EEC2  2020-06-02 19:18:23  2020-06-02 19:46:05   \n",
       "\n",
       "                                  start_station_name  start_station_id  \\\n",
       "0                          Powell St at Columbus Ave             487.0   \n",
       "1                            Church St at Duboce Ave              85.0   \n",
       "2                      Cesar Chavez St at Dolores St             140.0   \n",
       "3  Yerba Buena Center for the Arts (Howard St at ...             284.0   \n",
       "4                      The Embarcadero at Vallejo St               8.0   \n",
       "\n",
       "          end_station_name  end_station_id user_type      bike_type month  \\\n",
       "0                      NaN             NaN    casual  electric_bike   Jun   \n",
       "1  48th Ave at Cabrillo St           521.0    casual  electric_bike   Jun   \n",
       "2        4th St at 16th St           104.0    casual  electric_bike   Jun   \n",
       "3                      NaN             NaN    casual  electric_bike   Jun   \n",
       "4       Hyde St at Post St           369.0    casual  electric_bike   Jun   \n",
       "\n",
       "   day  hour       week   duration  distance  \n",
       "0    2    17    Tuesday  14.633333  2.803461  \n",
       "1    3    15  Wednesday  50.066667  7.028324  \n",
       "2    3    12  Wednesday  22.950000  3.695719  \n",
       "3    3    14  Wednesday  16.500000  3.203368  \n",
       "4    2    19    Tuesday  27.700000  2.117242  "
      ]
     },
     "execution_count": 46,
     "metadata": {},
     "output_type": "execute_result"
    }
   ],
   "source": [
    "df_final = pd.read_csv('final_data.csv')\n",
    "df_final.head()"
   ]
  },
  {
   "cell_type": "markdown",
   "metadata": {},
   "source": [
    "# Data Exploration and Analysis"
   ]
  },
  {
   "cell_type": "markdown",
   "metadata": {},
   "source": [
    "## Univariate Exploration"
   ]
  },
  {
   "cell_type": "markdown",
   "metadata": {},
   "source": [
    "## What is the average duration for bike is driven by a user ?"
   ]
  },
  {
   "cell_type": "code",
   "execution_count": 47,
   "metadata": {
    "scrolled": true
   },
   "outputs": [
    {
     "data": {
      "image/png": "[encoded data removed]",
      "text/plain": [
       "<Figure size 576x360 with 1 Axes>"
      ]
     },
     "metadata": {
      "needs_background": "light"
     },
     "output_type": "display_data"
    }
   ],
   "source": [
    "plt.figure(figsize=[8, 5])\n",
    "bins_ = np.arange(0, df_final['duration'].max()+1, 1)\n",
    "plt.hist(data = df_final, x = 'duration', bins=bins_);"
   ]
  },
  {
   "cell_type": "markdown",
   "metadata": {},
   "source": [
    "### Something is not right, the distribution is not normal and there are too many outliners."
   ]
  },
  {
   "cell_type": "code",
   "execution_count": 48,
   "metadata": {
    "scrolled": true
   },
   "outputs": [
    {
     "data": {
      "text/plain": [
       "count    239969.000000\n",
       "mean         35.778007\n",
       "std         484.281482\n",
       "min         -14.050000\n",
       "25%           7.733333\n",
       "50%          14.116667\n",
       "75%          26.350000\n",
       "max       54728.866667\n",
       "Name: duration, dtype: float64"
      ]
     },
     "execution_count": 48,
     "metadata": {},
     "output_type": "execute_result"
    }
   ],
   "source": [
    "df_final['duration'].describe()"
   ]
  },
  {
   "cell_type": "code",
   "execution_count": 49,
   "metadata": {
    "scrolled": true
   },
   "outputs": [
    {
     "data": {
      "image/png": "[encoded data removed]",
      "text/plain": [
       "<Figure size 576x576 with 1 Axes>"
      ]
     },
     "metadata": {
      "needs_background": "light"
     },
     "output_type": "display_data"
    }
   ],
   "source": [
    "plt.figure(figsize=[8, 8])\n",
    "plt.hist(data = df_final, x = 'duration', bins = (np.arange(0, 45, 1)), rwidth = 0.6);\n",
    "plt.title(\"Trip duration\")\n",
    "plt.xlabel('Duration')\n",
    "plt.xticks([0, 5, 10, 15, 20, 25, 30,  35, 40, 45], ['{}'.format(val) for val in [0, 5, 10, 15, 20, 25, 30,  35, 40, 45]])\n",
    "plt.ylabel('#Trips');"
   ]
  },
  {
   "cell_type": "code",
   "execution_count": 50,
   "metadata": {
    "scrolled": false
   },
   "outputs": [
    {
     "data": {
      "image/png": "[encoded data removed]",
      "text/plain": [
       "<Figure size 432x288 with 1 Axes>"
      ]
     },
     "metadata": {
      "needs_background": "light"
     },
     "output_type": "display_data"
    }
   ],
   "source": [
    "sns.violinplot(data = df_final, x = 'duration');"
   ]
  },
  {
   "cell_type": "markdown",
   "metadata": {},
   "source": [
    "### Lets remove the outliners since from above can be seen it doesnt contribute to hypothesis much."
   ]
  },
  {
   "cell_type": "code",
   "execution_count": 51,
   "metadata": {},
   "outputs": [
    {
     "name": "stdout",
     "output_type": "stream",
     "text": [
      "<class 'pandas.core.frame.DataFrame'>\n",
      "Int64Index: 233481 entries, 0 to 239968\n",
      "Data columns (total 15 columns):\n",
      " #   Column              Non-Null Count   Dtype  \n",
      "---  ------              --------------   -----  \n",
      " 0   ride_id             233481 non-null  object \n",
      " 1   started_at          233481 non-null  object \n",
      " 2   ended_at            233481 non-null  object \n",
      " 3   start_station_name  233481 non-null  object \n",
      " 4   start_station_id    233481 non-null  float64\n",
      " 5   end_station_name    189471 non-null  object \n",
      " 6   end_station_id      189471 non-null  float64\n",
      " 7   user_type           233481 non-null  object \n",
      " 8   bike_type           233481 non-null  object \n",
      " 9   month               233481 non-null  object \n",
      " 10  day                 233481 non-null  int64  \n",
      " 11  hour                233481 non-null  int64  \n",
      " 12  week                233481 non-null  object \n",
      " 13  duration            233481 non-null  float64\n",
      " 14  distance            233352 non-null  float64\n",
      "dtypes: float64(4), int64(2), object(9)\n",
      "memory usage: 28.5+ MB\n"
     ]
    }
   ],
   "source": [
    "# Drop record duration_min < 100 min and > 0\n",
    "df_final = df_final[(df_final['duration'] <= 100) & (df_final.duration > 0)]\n",
    "df_final.info()"
   ]
  },
  {
   "cell_type": "code",
   "execution_count": 52,
   "metadata": {
    "scrolled": true
   },
   "outputs": [
    {
     "data": {
      "image/png": "[encoded data removed]",
      "text/plain": [
       "<Figure size 432x288 with 1 Axes>"
      ]
     },
     "metadata": {
      "needs_background": "light"
     },
     "output_type": "display_data"
    }
   ],
   "source": [
    "sns.violinplot(data = df_final, x = 'duration');"
   ]
  },
  {
   "cell_type": "markdown",
   "metadata": {},
   "source": [
    "### The above analysis conveys that Users tend to use bikes for shorther duration.\n",
    "\n",
    "The riders only use bike for shorter duration of time which is apporximatly 5-10 minutes."
   ]
  },
  {
   "cell_type": "markdown",
   "metadata": {},
   "source": [
    "## Lets look at member's distance"
   ]
  },
  {
   "cell_type": "code",
   "execution_count": 53,
   "metadata": {},
   "outputs": [
    {
     "data": {
      "text/plain": [
       "count    233352.000000\n",
       "mean          1.954468\n",
       "std           1.613018\n",
       "min           0.000000\n",
       "25%           0.758072\n",
       "50%           1.625733\n",
       "75%           2.826926\n",
       "max          22.319872\n",
       "Name: distance, dtype: float64"
      ]
     },
     "execution_count": 53,
     "metadata": {},
     "output_type": "execute_result"
    }
   ],
   "source": [
    "df_final['distance'].describe()"
   ]
  },
  {
   "cell_type": "code",
   "execution_count": 54,
   "metadata": {},
   "outputs": [
    {
     "data": {
      "image/png": "[encoded data removed]",
      "text/plain": [
       "<Figure size 432x288 with 1 Axes>"
      ]
     },
     "metadata": {
      "needs_background": "light"
     },
     "output_type": "display_data"
    }
   ],
   "source": [
    "sns.boxplot(data = df_final, y = 'distance');"
   ]
  },
  {
   "cell_type": "markdown",
   "metadata": {},
   "source": [
    "### Since the data is not normally distributed, Lets remove outliners"
   ]
  },
  {
   "cell_type": "code",
   "execution_count": 55,
   "metadata": {},
   "outputs": [],
   "source": [
    "df_final = df_final[(df_final['distance'] <= 8) & (df_final['distance'] >= 1)]"
   ]
  },
  {
   "cell_type": "code",
   "execution_count": 56,
   "metadata": {
    "scrolled": true
   },
   "outputs": [
    {
     "name": "stdout",
     "output_type": "stream",
     "text": [
      "<class 'pandas.core.frame.DataFrame'>\n",
      "Int64Index: 158533 entries, 0 to 239968\n",
      "Data columns (total 15 columns):\n",
      " #   Column              Non-Null Count   Dtype  \n",
      "---  ------              --------------   -----  \n",
      " 0   ride_id             158533 non-null  object \n",
      " 1   started_at          158533 non-null  object \n",
      " 2   ended_at            158533 non-null  object \n",
      " 3   start_station_name  158533 non-null  object \n",
      " 4   start_station_id    158533 non-null  float64\n",
      " 5   end_station_name    124518 non-null  object \n",
      " 6   end_station_id      124518 non-null  float64\n",
      " 7   user_type           158533 non-null  object \n",
      " 8   bike_type           158533 non-null  object \n",
      " 9   month               158533 non-null  object \n",
      " 10  day                 158533 non-null  int64  \n",
      " 11  hour                158533 non-null  int64  \n",
      " 12  week                158533 non-null  object \n",
      " 13  duration            158533 non-null  float64\n",
      " 14  distance            158533 non-null  float64\n",
      "dtypes: float64(4), int64(2), object(9)\n",
      "memory usage: 19.4+ MB\n"
     ]
    }
   ],
   "source": [
    "df_final.info()"
   ]
  },
  {
   "cell_type": "code",
   "execution_count": 57,
   "metadata": {
    "scrolled": false
   },
   "outputs": [
    {
     "data": {
      "image/png": "[encoded data removed]",
      "text/plain": [
       "<Figure size 432x288 with 1 Axes>"
      ]
     },
     "metadata": {
      "needs_background": "light"
     },
     "output_type": "display_data"
    }
   ],
   "source": [
    "sns.boxplot(data = df_final, y = 'distance');"
   ]
  },
  {
   "cell_type": "code",
   "execution_count": 58,
   "metadata": {
    "scrolled": true
   },
   "outputs": [
    {
     "data": {
      "image/png": "[encoded data removed]",
      "text/plain": [
       "<Figure size 432x288 with 1 Axes>"
      ]
     },
     "metadata": {
      "needs_background": "light"
     },
     "output_type": "display_data"
    }
   ],
   "source": [
    "sns.violinplot(data = df_final, y = 'distance');"
   ]
  },
  {
   "cell_type": "markdown",
   "metadata": {},
   "source": [
    "### Above can be seen that after removing outliners the graph is much more normally distributed.\n",
    "\n",
    "* From above graph , it can be noted that people tend to use bikes for shorter distance with average around 2-3 kms. "
   ]
  },
  {
   "cell_type": "markdown",
   "metadata": {},
   "source": [
    "### What is the distribution of the number of trips by the `hour` of a day?"
   ]
  },
  {
   "cell_type": "code",
   "execution_count": 59,
   "metadata": {
    "scrolled": true
   },
   "outputs": [
    {
     "data": {
      "image/png": "[encoded data removed]",
      "text/plain": [
       "<Figure size 432x288 with 1 Axes>"
      ]
     },
     "metadata": {
      "needs_background": "light"
     },
     "output_type": "display_data"
    }
   ],
   "source": [
    "sns.countplot(data = df_final, x = 'hour');\n",
    "plt.ylabel('#Trips', fontsize=14)\n",
    "plt.title(\"Hourly usage of system\", fontsize=16);"
   ]
  },
  {
   "cell_type": "markdown",
   "metadata": {},
   "source": [
    "#### Above distribution shows that \n",
    "\n",
    "* 12 pm - 6pm are peak times and 12am- 4am and 22-23 pm are least busy hours."
   ]
  },
  {
   "cell_type": "markdown",
   "metadata": {},
   "source": [
    "## What is bike usage monthly ?"
   ]
  },
  {
   "cell_type": "code",
   "execution_count": 60,
   "metadata": {
    "scrolled": true
   },
   "outputs": [
    {
     "data": {
      "image/png": "[encoded data removed]",
      "text/plain": [
       "<Figure size 432x288 with 1 Axes>"
      ]
     },
     "metadata": {
      "needs_background": "light"
     },
     "output_type": "display_data"
    }
   ],
   "source": [
    "sns.countplot(data = df_final, x = 'month');\n",
    "plt.ylabel('#Trips', fontsize=14)\n",
    "plt.title(\"Monthly usage of system\", fontsize=16);"
   ]
  },
  {
   "cell_type": "markdown",
   "metadata": {},
   "source": [
    "#### Above anaylsis shows that \n",
    "* June month has most bikers.\n",
    "* April month has lowest bikers.\n",
    "* Due to businesses and places repoening after lockdown, people tend to use more and more bikes."
   ]
  },
  {
   "cell_type": "markdown",
   "metadata": {},
   "source": [
    "## What kind of bikes are mostly used?"
   ]
  },
  {
   "cell_type": "code",
   "execution_count": 61,
   "metadata": {
    "scrolled": true
   },
   "outputs": [
    {
     "data": {
      "image/png": "[encoded data removed]",
      "text/plain": [
       "<Figure size 432x288 with 1 Axes>"
      ]
     },
     "metadata": {
      "needs_background": "light"
     },
     "output_type": "display_data"
    }
   ],
   "source": [
    "sns.countplot(data = df_final, x = 'bike_type');\n",
    "plt.ylabel('#Trips', fontsize=14)\n",
    "plt.title(\"Trips based on type of bikes\", fontsize=16);"
   ]
  },
  {
   "cell_type": "markdown",
   "metadata": {},
   "source": [
    "#### Electric bike is the most used bike by the riders.\n",
    "\n",
    "* This conveys that altough people use shorter period of time and shorter distance, which fits perfect with electric bike situation as it takes less time than riding docked bike to travel."
   ]
  },
  {
   "cell_type": "markdown",
   "metadata": {},
   "source": [
    "## Riders who use the bike, Do they have subscription ?"
   ]
  },
  {
   "cell_type": "code",
   "execution_count": 62,
   "metadata": {
    "scrolled": false
   },
   "outputs": [
    {
     "data": {
      "image/png": "[encoded data removed]",
      "text/plain": [
       "<Figure size 432x288 with 1 Axes>"
      ]
     },
     "metadata": {
      "needs_background": "light"
     },
     "output_type": "display_data"
    }
   ],
   "source": [
    "sns.countplot(data = df_final, x = 'user_type');\n",
    "plt.ylabel('#Trips', fontsize=14)\n",
    "plt.title(\"Trips based on type of users\", fontsize=16);"
   ]
  },
  {
   "cell_type": "markdown",
   "metadata": {},
   "source": [
    "#### It is very intersting to not that although it is very difficult in these times of pandamic for tourists to arrive, since tourists tend to use daily subscription rather than becoming a member, most of the riders are casuals.\n",
    "\n",
    "* It can be because the chrge for daily is less than monthly subscription."
   ]
  },
  {
   "cell_type": "markdown",
   "metadata": {},
   "source": [
    "## What is weekly report for trips?"
   ]
  },
  {
   "cell_type": "code",
   "execution_count": 63,
   "metadata": {
    "scrolled": false
   },
   "outputs": [
    {
     "data": {
      "image/png": "[encoded data removed]",
      "text/plain": [
       "<Figure size 432x288 with 1 Axes>"
      ]
     },
     "metadata": {
      "needs_background": "light"
     },
     "output_type": "display_data"
    }
   ],
   "source": [
    "sns.countplot(data=df_final, x='week')\n",
    "plt.xlabel('Day of week', fontsize=14)\n",
    "plt.ylabel('Count', fontsize=14)\n",
    "plt.title(\"Distribution of trips vs day of week\", fontsize=16);"
   ]
  },
  {
   "cell_type": "markdown",
   "metadata": {},
   "source": [
    "#### Sarturday and Sunday has most visitors, may be because people work from home on weekdays and go out on weekends"
   ]
  },
  {
   "cell_type": "markdown",
   "metadata": {},
   "source": [
    "##### Insights from univariate data exploration\n",
    "\n",
    "* Saturday and sunday are the most busy days.\n",
    "* Riders typically use the system doe shorter duration of time and for shorter distance, which may be a commute to go to nearest park or commute service.\n",
    "* Average distance travlled by users is around 2-3 kms. which proves the analysis for shorter duration of time spend on bikes.\n",
    "* Intersting to know that majority of riders are not members, instead are casuals.\n",
    "* Majority of riders tend to use the Electric bike for commute since it is quicker and easier to commute with.\n",
    "\n",
    "#### The features you investigated, were there any unusual distributions? Did you perform any operations on the data to tidy, adjust, or change the form of the data? If so, why did you do this?\n",
    "\n",
    "* The data conveys that bikes are not used during weekdays and not even during peak hours. This affect is may be due to Corona Virus. People tend to go out on weekends instead of weekdays.\n",
    "\n",
    "* Electric bikes are used instead of docked bikes, which is intersting and alos fits with fact that average duration per ride is almost 5-10 minutes, since electric bikes takes less time."
   ]
  },
  {
   "cell_type": "markdown",
   "metadata": {},
   "source": [
    "# Bivariate Exploration"
   ]
  },
  {
   "cell_type": "code",
   "execution_count": 64,
   "metadata": {
    "scrolled": true
   },
   "outputs": [
    {
     "data": {
      "text/plain": [
       "casual    87609\n",
       "member    70924\n",
       "Name: user_type, dtype: int64"
      ]
     },
     "execution_count": 64,
     "metadata": {},
     "output_type": "execute_result"
    }
   ],
   "source": [
    "df_final.user_type.value_counts()"
   ]
  },
  {
   "cell_type": "markdown",
   "metadata": {},
   "source": [
    "# Members Vs Casuals"
   ]
  },
  {
   "cell_type": "code",
   "execution_count": 65,
   "metadata": {
    "scrolled": true
   },
   "outputs": [
    {
     "data": {
      "image/png": "[encoded data removed]",
      "text/plain": [
       "<Figure size 576x576 with 1 Axes>"
      ]
     },
     "metadata": {
      "needs_background": "light"
     },
     "output_type": "display_data"
    }
   ],
   "source": [
    "plt = df_final.groupby('user_type')['distance'].mean()\n",
    "plt.plot(kind='bar', figsize=(8,8));"
   ]
  },
  {
   "cell_type": "markdown",
   "metadata": {},
   "source": [
    "#### Casual bikers travel more distance than members."
   ]
  },
  {
   "cell_type": "markdown",
   "metadata": {},
   "source": [
    "### Monhtly comapison of Casual and Member types"
   ]
  },
  {
   "cell_type": "code",
   "execution_count": 66,
   "metadata": {
    "scrolled": false
   },
   "outputs": [
    {
     "data": {
      "image/png": "[encoded data removed]",
      "text/plain": [
       "<Figure size 728x360 with 2 Axes>"
      ]
     },
     "metadata": {
      "needs_background": "light"
     },
     "output_type": "display_data"
    }
   ],
   "source": [
    "g = sns.catplot(data=df_final, x='month', col=\"user_type\", kind='count', sharey = False)\n",
    "g.set_axis_labels(\"Month\", \"#Trips\")\n",
    "g.add_legend()\n",
    "g.fig.suptitle('Monthly usage per user type', y=1.04, fontsize=15, fontweight='bold');"
   ]
  },
  {
   "cell_type": "markdown",
   "metadata": {},
   "source": [
    "### As can be seen from above Members and Casuals graph is almost same, which means similar pattern in use of bikes in both cases, with siggnificant difference in one month of April. April has lower number in both cases but even lower in case of casual member type. \n",
    "\n",
    "#### This can be due to sudden lockdown effects on tourism due to corona virus, lesser people travlled using bikes, but with the reporning there can be seen an increase in the graph."
   ]
  },
  {
   "cell_type": "markdown",
   "metadata": {},
   "source": [
    "### User type hourly usage"
   ]
  },
  {
   "cell_type": "code",
   "execution_count": 67,
   "metadata": {
    "scrolled": true
   },
   "outputs": [
    {
     "data": {
      "image/png": "[encoded data removed]",
      "text/plain": [
       "<Figure size 720x360 with 2 Axes>"
      ]
     },
     "metadata": {
      "needs_background": "light"
     },
     "output_type": "display_data"
    }
   ],
   "source": [
    "g = sns.catplot(data=df_final, x='hour', col=\"user_type\", kind='count', sharey = False)\n",
    "g.set_axis_labels(\"Hour\", \"#Trips\")\n",
    "g.fig.suptitle('Hourly usage per user type', y=1.04, fontsize=15, fontweight='bold');"
   ]
  },
  {
   "cell_type": "markdown",
   "metadata": {},
   "source": [
    "#### The two user types almost use the bike at similar times, but with a little change in case of member type."
   ]
  },
  {
   "cell_type": "markdown",
   "metadata": {},
   "source": [
    "### Hourly usage based on bike types."
   ]
  },
  {
   "cell_type": "code",
   "execution_count": 68,
   "metadata": {
    "scrolled": false
   },
   "outputs": [
    {
     "data": {
      "image/png": "[encoded data removed]",
      "text/plain": [
       "<Figure size 720x360 with 2 Axes>"
      ]
     },
     "metadata": {
      "needs_background": "light"
     },
     "output_type": "display_data"
    }
   ],
   "source": [
    "g = sns.catplot(data=df_final, x='hour', col=\"bike_type\", kind='count', sharey = False)\n",
    "g.set_axis_labels(\"Hour\", \"#Trips\")\n",
    "g.fig.suptitle('Hourly usage per bike type', y=1.04, fontsize=15, fontweight='bold');"
   ]
  },
  {
   "cell_type": "markdown",
   "metadata": {},
   "source": [
    "* There is not much siggnificant difference among these two comparisons , but electric bikes being a little higher than docked bikes, may be due to ease of commute and less effort involved."
   ]
  },
  {
   "cell_type": "markdown",
   "metadata": {},
   "source": [
    "### Monthly bike usage based on bike type"
   ]
  },
  {
   "cell_type": "code",
   "execution_count": 69,
   "metadata": {
    "scrolled": true
   },
   "outputs": [
    {
     "data": {
      "image/png": "[encoded data removed]",
      "text/plain": [
       "<Figure size 720x360 with 2 Axes>"
      ]
     },
     "metadata": {
      "needs_background": "light"
     },
     "output_type": "display_data"
    }
   ],
   "source": [
    "g = sns.catplot(data=df_final, x='month', col=\"bike_type\", kind='count', sharey = False)\n",
    "g.set_axis_labels(\"Month\", \"#Trips\")\n",
    "g.fig.suptitle('Monthly usage per bike type', y=1.04, fontsize=15, fontweight='bold');"
   ]
  },
  {
   "cell_type": "markdown",
   "metadata": {},
   "source": [
    "* These comparisons are almost identical with a slightly large use of rides using electric bikes in almost every month.\n",
    "\n",
    "* The lineraity and use is directly proportional to the monthly usage of user type which we will see below in multi visualization."
   ]
  },
  {
   "cell_type": "markdown",
   "metadata": {},
   "source": [
    "### Trip duration for user type"
   ]
  },
  {
   "cell_type": "code",
   "execution_count": 70,
   "metadata": {
    "scrolled": false
   },
   "outputs": [
    {
     "data": {
      "image/png": "[encoded data removed]",
      "text/plain": [
       "<Figure size 432x288 with 1 Axes>"
      ]
     },
     "metadata": {
      "needs_background": "light"
     },
     "output_type": "display_data"
    }
   ],
   "source": [
    "# User Type and Duration\n",
    "sns.violinplot(data=df_final[(df_final.duration<=60)&(df_final.duration>=0)], x='user_type',y='duration');"
   ]
  },
  {
   "cell_type": "markdown",
   "metadata": {},
   "source": [
    "#### Above graph conveys that max users are not members of the ford bike."
   ]
  },
  {
   "cell_type": "markdown",
   "metadata": {},
   "source": [
    "## Talk about some of the relationships you observed in this part of the investigation. How did the feature(s) of interest vary with other features in the dataset?\n",
    "\n",
    "The data helps to support the conclusion that people tend to use more bikes with coming months due to repoening of places which were shut down due to pandamic and more use of electric bikes can be seen."
   ]
  },
  {
   "cell_type": "markdown",
   "metadata": {},
   "source": [
    "## Did you observe any interesting relationships between the other features (not the main feature(s) of interest)?\n",
    "\n",
    "* The data helps to support the conclusion that people tend to use more bikes with coming months due to repoening of places which were shut down due to pandamic and more use of electric bikes can be seen\n",
    "\n",
    "* There is a difference in the trip duration between Casuals and Memebers. Casual trips longer than for members, due to reason that they prefer bike rides around weekends in summer, which may be for longer trips."
   ]
  },
  {
   "cell_type": "markdown",
   "metadata": {},
   "source": [
    "# Multivariate Exploration"
   ]
  },
  {
   "cell_type": "code",
   "execution_count": 71,
   "metadata": {
    "scrolled": true
   },
   "outputs": [
    {
     "name": "stdout",
     "output_type": "stream",
     "text": [
      "<class 'pandas.core.frame.DataFrame'>\n",
      "Int64Index: 158533 entries, 0 to 239968\n",
      "Data columns (total 15 columns):\n",
      " #   Column              Non-Null Count   Dtype  \n",
      "---  ------              --------------   -----  \n",
      " 0   ride_id             158533 non-null  object \n",
      " 1   started_at          158533 non-null  object \n",
      " 2   ended_at            158533 non-null  object \n",
      " 3   start_station_name  158533 non-null  object \n",
      " 4   start_station_id    158533 non-null  float64\n",
      " 5   end_station_name    124518 non-null  object \n",
      " 6   end_station_id      124518 non-null  float64\n",
      " 7   user_type           158533 non-null  object \n",
      " 8   bike_type           158533 non-null  object \n",
      " 9   month               158533 non-null  object \n",
      " 10  day                 158533 non-null  int64  \n",
      " 11  hour                158533 non-null  int64  \n",
      " 12  week                158533 non-null  object \n",
      " 13  duration            158533 non-null  float64\n",
      " 14  distance            158533 non-null  float64\n",
      "dtypes: float64(4), int64(2), object(9)\n",
      "memory usage: 24.4+ MB\n"
     ]
    }
   ],
   "source": [
    "df_final.info()"
   ]
  },
  {
   "cell_type": "code",
   "execution_count": 72,
   "metadata": {
    "scrolled": true
   },
   "outputs": [
    {
     "data": {
      "image/png": "[encoded data removed]",
      "text/plain": [
       "<Figure size 1152x576 with 1 Axes>"
      ]
     },
     "metadata": {
      "needs_background": "light"
     },
     "output_type": "display_data"
    }
   ],
   "source": [
    "import matplotlib.pyplot as plt\n",
    "\n",
    "fig = plt.figure(figsize = [16,8])\n",
    "\n",
    "ax = sns.pointplot(data = df_final[df_final['user_type'] == 'casual'], x = 'hour', y = 'duration', hue = 'week',\n",
    "           palette = 'Blues', linestyles = '', dodge = 0.5);\n",
    "\n",
    "plt.title('Biking durations for bikers who are casuals for week and hour');\n",
    "plt.ylabel('Duration');\n",
    "plt.yscale('log');\n",
    "a = [1, 2, 5, 10, 20, 50, 100]\n",
    "b = [1, 2, 5, 10, 20, 50, 100]\n",
    "plt.yticks(a,b);\n",
    "ax.set_yticklabels([],minor = True);"
   ]
  },
  {
   "cell_type": "code",
   "execution_count": 73,
   "metadata": {
    "scrolled": true
   },
   "outputs": [
    {
     "data": {
      "image/png": "[encoded data removed]",
      "text/plain": [
       "<Figure size 1512x1512 with 1 Axes>"
      ]
     },
     "metadata": {
      "needs_background": "light"
     },
     "output_type": "display_data"
    },
    {
     "data": {
      "image/png": "[encoded data removed]",
      "text/plain": [
       "<Figure size 1512x1512 with 1 Axes>"
      ]
     },
     "metadata": {
      "needs_background": "light"
     },
     "output_type": "display_data"
    },
    {
     "data": {
      "image/png": "[encoded data removed]",
      "text/plain": [
       "<Figure size 1512x1512 with 1 Axes>"
      ]
     },
     "metadata": {
      "needs_background": "light"
     },
     "output_type": "display_data"
    },
    {
     "data": {
      "image/png": "[encoded data removed]",
      "text/plain": [
       "<Figure size 1512x1512 with 1 Axes>"
      ]
     },
     "metadata": {
      "needs_background": "light"
     },
     "output_type": "display_data"
    },
    {
     "data": {
      "image/png": "[encoded data removed]",
      "text/plain": [
       "<Figure size 1512x1512 with 1 Axes>"
      ]
     },
     "metadata": {
      "needs_background": "light"
     },
     "output_type": "display_data"
    },
    {
     "data": {
      "image/png": "[encoded data removed]",
      "text/plain": [
       "<Figure size 1512x1512 with 1 Axes>"
      ]
     },
     "metadata": {
      "needs_background": "light"
     },
     "output_type": "display_data"
    }
   ],
   "source": [
    "plt.figure(figsize = [21, 21]);\n",
    "plt.subplot(6, 1, 1);\n",
    "sns.countplot(data = df_final, x = 'hour', hue = 'week');\n",
    "\n",
    "plt.figure(figsize = [21, 21]);\n",
    "ax = plt.subplot(6, 1, 2);\n",
    "sns.countplot(data = df_final, x = 'hour', hue = 'bike_type');\n",
    "ax.legend(ncol = 2); \n",
    "\n",
    "plt.figure(figsize = [21, 21]);\n",
    "ax = plt.subplot(6, 1, 3);\n",
    "sns.countplot(data = df_final, x = 'hour', hue = 'user_type');\n",
    "ax.legend(loc = 1, ncol = 2);\n",
    "\n",
    "plt.figure(figsize = [21, 21]);\n",
    "ax = plt.subplot(6, 1, 4);\n",
    "sns.countplot(data = df_final, x = 'week', hue = 'bike_type');\n",
    "\n",
    "plt.figure(figsize = [21, 21]);\n",
    "ax = plt.subplot(6, 1, 5);\n",
    "sns.countplot(data = df_final, x = 'week', hue = 'user_type');\n",
    "\n",
    "plt.figure(figsize = [21, 21]);\n",
    "ax = plt.subplot(6, 1, 6);\n",
    "sns.countplot(data = df_final, x = 'bike_type', hue = 'user_type');"
   ]
  },
  {
   "cell_type": "markdown",
   "metadata": {},
   "source": [
    "## Any relation among user type and duration ?"
   ]
  },
  {
   "cell_type": "code",
   "execution_count": 79,
   "metadata": {
    "scrolled": true
   },
   "outputs": [
    {
     "data": {
      "image/png": "[encoded data removed]",
      "text/plain": [
       "<Figure size 1517.88x1440 with 1 Axes>"
      ]
     },
     "metadata": {
      "needs_background": "light"
     },
     "output_type": "display_data"
    }
   ],
   "source": [
    "g = sns.FacetGrid(data =  df_final, hue = 'user_type', height = 20)\n",
    "g.map(plt.scatter, 'month','duration', alpha = 0.5)\n",
    "g.add_legend()\n",
    "plt.title('Trip Duration for Month and User Type')\n",
    "plt.xlabel('Month')\n",
    "plt.ylabel('Duration');"
   ]
  },
  {
   "cell_type": "markdown",
   "metadata": {},
   "source": [
    "#### Quite intresting to see how user type is associated with the duration spent on ride. However more casual users are taking shorter to longer trips during month of April."
   ]
  },
  {
   "cell_type": "markdown",
   "metadata": {},
   "source": [
    "### Talk about some of the relationships you observed in this part of the investigation. Were there features that strengthened each other in terms of looking at your feature(s) of interest?\n",
    "These findings convey so much pattern in the data. The relationship among duration, distance and bike type is positive. The main feature which helped this finding was distance travlled, which helped learning the pattern of users using the bike.\n",
    "\n",
    "### Were there any interesting or surprising interactions between features?\n",
    "The Members mostly use electric bike as compared to docked bikes and casual riders rarely use docked bike, this the reason because riders want to experince electric bikes due to ease of commute, this feature was interesting for me."
   ]
  },
  {
   "cell_type": "markdown",
   "metadata": {},
   "source": [
    "# Conclusions"
   ]
  },
  {
   "cell_type": "markdown",
   "metadata": {},
   "source": [
    "* The data is pretty straight forward but some attributes work together to display a very conveying and intresting pattern in data and to learn the aspacts of business of Ford bike. I will list some of them below:\n",
    "\n",
    "    1. Among casual and members of the system, casual bikers tend to drive for more duration than the members, which conveys 2 things, either the every day charge is less than membership or number of tourists are more than the people living in the city.\n",
    "\n",
    "    2. Due the pandamic, most peak and busy hours/days are weekends during evening time. As most people work from home during week days. People tend to go out only on weekends for a short drive and short duration of time.\n",
    "\n",
    "    3. During weekdays only evening hours are busy which shows people use ford bike as their commute to go to park or near by places.\n",
    "\n",
    "    4. As the Data is limited to months of summer an increase in daily riders can be seen with the further months, which conveys that tourists places are opening, due which more and more tourists are coming and people are going out using the commute.\n",
    "    \n",
    "    5. Riders tend to use electric bike more than the docked bikes, amy be due to save time and effort as in order to spend lesser time outside the home, due to pandamic."
   ]
  },
  {
   "cell_type": "code",
   "execution_count": null,
   "metadata": {},
   "outputs": [],
   "source": []
  }
 ],
 "metadata": {
  "kernelspec": {
   "display_name": "Python 3",
   "language": "python",
   "name": "python3"
  },
  "language_info": {
   "codemirror_mode": {
    "name": "ipython",
    "version": 3
   },
   "file_extension": ".py",
   "mimetype": "text/x-python",
   "name": "python",
   "nbconvert_exporter": "python",
   "pygments_lexer": "ipython3",
   "version": "3.7.7"
  }
 },
 "nbformat": 4,
 "nbformat_minor": 4
}
